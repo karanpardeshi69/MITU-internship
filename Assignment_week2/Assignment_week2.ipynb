{
 "cells": [
  {
   "cell_type": "markdown",
   "id": "4ca9e722-4afd-4bf2-85be-ed1fcc629c3a",
   "metadata": {},
   "source": [
    "##### Question No.1"
   ]
  },
  {
   "cell_type": "code",
   "execution_count": 21,
   "id": "b822a6f7-e70f-4fcd-90f2-40e5b70ea6c4",
   "metadata": {},
   "outputs": [
    {
     "name": "stdout",
     "output_type": "stream",
     "text": [
      "BATSMAN\n",
      "If Runs = 4042 , Outs = 47 Then Batsman's Average =  86.0\n",
      "If Runs = 264 , Balls = 173 Then Batsman's Strikerate =  152.60115606936415\n",
      "BOWLER\n",
      "If Runs = 3857 , Wickets = 138 Then Bowler's Average =  27.94927536231884\n",
      "If Overs = 4 , Runs = 36 Then Bowler's Economy Rate =  9.0\n"
     ]
    }
   ],
   "source": [
    "'''Create a package named ‘cricket’ which will contain modules named\n",
    "batsman and bowler. Create following functions in respective modules.\n",
    "Import the package and call all these functions in your program\n",
    "batsman: findaverage(runs,outs), strikerate(runs,balls)\n",
    "bowler: findavg(runs,wickets), economyrate(overs, runs)\n",
    "'''\n",
    "from cricket import batsman as bt\n",
    "from cricket import bowler as bw\n",
    "print(\"BATSMAN\")\n",
    "print(\"If Runs = 4042 , Outs = 47 Then Batsman's Average = \",bt.findaverage(4042,47))\n",
    "print(\"If Runs = 264 , Balls = 173 Then Batsman's Strikerate = \",bt.strikerate(264,173))\n",
    "print(\"BOWLER\")\n",
    "print(\"If Runs = 3857 , Wickets = 138 Then Bowler's Average = \",bw.findavg(3857,138))\n",
    "print(\"If Overs = 4 , Runs = 36 Then Bowler's Economy Rate = \",bw.economyrate(4,36))"
   ]
  },
  {
   "cell_type": "markdown",
   "id": "a1f639c7-ac0e-476e-8b80-d5ba36bc0e9c",
   "metadata": {},
   "source": [
    "##### Question No.2"
   ]
  },
  {
   "cell_type": "code",
   "execution_count": 3,
   "id": "6d015292-c227-4193-b7d2-bfe6c0d49194",
   "metadata": {},
   "outputs": [
    {
     "name": "stdin",
     "output_type": "stream",
     "text": [
      "Enter number to check =  37\n"
     ]
    },
    {
     "name": "stdout",
     "output_type": "stream",
     "text": [
      "37 is prime number\n"
     ]
    }
   ],
   "source": [
    "'''Write a Python function to find whether the number if prime or not.\n",
    "def isPrime(num)'''\n",
    "num = int(input(\"Enter number to check = \"))\n",
    "def isPrime(num):\n",
    "    flag = False\n",
    "    if num > 1:\n",
    "        for i in range(2,num):\n",
    "          if num % i == 0:\n",
    "            flag = True\n",
    "    \n",
    "    if flag == True:\n",
    "        print(num,\"is not a prime number\")\n",
    "    else:\n",
    "        print(num,\"is prime number\")\n",
    "    \n",
    "isPrime(num)                "
   ]
  },
  {
   "cell_type": "markdown",
   "id": "99709bf2-d013-4f2a-bdf0-1ca20cef7c4a",
   "metadata": {},
   "source": [
    "##### Question No.3"
   ]
  },
  {
   "cell_type": "code",
   "execution_count": 5,
   "id": "bba6012c-29d3-4854-995c-229bbe2d1653",
   "metadata": {},
   "outputs": [
    {
     "name": "stdin",
     "output_type": "stream",
     "text": [
      "Enter the string to check =  refer\n"
     ]
    },
    {
     "data": {
      "text/plain": [
       "True"
      ]
     },
     "execution_count": 5,
     "metadata": {},
     "output_type": "execute_result"
    }
   ],
   "source": [
    "'''\n",
    " Write a function is_palindrome(string) that takes a string as input and returns\n",
    "True if the string reads the same backward as forward (e.g., \"racecar\" is a palindrome).\n",
    "'''\n",
    "str1 = input(\"Enter the string to check = \")\n",
    "def is_palindrome(string):\n",
    "    rev = string[::-1]\n",
    "    if rev == string:\n",
    "        return True\n",
    "    else:\n",
    "        return False\n",
    "\n",
    "is_palindrome(str1)"
   ]
  },
  {
   "cell_type": "markdown",
   "id": "fa181f2c-e689-49cd-8dbe-25b786c474c5",
   "metadata": {},
   "source": [
    "##### Question No.4"
   ]
  },
  {
   "cell_type": "code",
   "execution_count": 7,
   "id": "f45f1c7a-45bc-4593-89d6-05560cc15c8a",
   "metadata": {},
   "outputs": [
    {
     "name": "stdout",
     "output_type": "stream",
     "text": [
      "[63, 30, 9, 78, 22, 43, 67, 32, 45, 13, 12]\n"
     ]
    }
   ],
   "source": [
    "'''Write a function reverse_list(data) that takes a list as input and returns a new list\n",
    "with the elements in reverse order (e.g., reverse_list([1, 2, 3]) returns [3, 2, 1]).'''\n",
    "l1 = [12,13,45,32,67,43,22,78,9,30,63]\n",
    "def reverse_list(data):\n",
    "    res = data[::-1]\n",
    "    return res\n",
    "print(reverse_list(l1))"
   ]
  },
  {
   "cell_type": "markdown",
   "id": "9cc92b3d-cc95-4804-a50d-5493f45e4db2",
   "metadata": {},
   "source": [
    "##### Question No.5"
   ]
  },
  {
   "cell_type": "code",
   "execution_count": 9,
   "id": "cf1cbb15-7b87-41df-928e-6869426ad248",
   "metadata": {},
   "outputs": [
    {
     "name": "stdin",
     "output_type": "stream",
     "text": [
      "Enter your content :-  Hey I am your Batman...!!!\n"
     ]
    },
    {
     "name": "stdout",
     "output_type": "stream",
     "text": [
      "your content is aaded in your file\n"
     ]
    }
   ],
   "source": [
    "'''\n",
    "Write a function write_file(filename, content) that takes a filename and\n",
    "content as input and writes the content to the specified file.\n",
    "'''\n",
    "content = input(\"Enter your content :- \")\n",
    "def write_file(filename, content):\n",
    "    with open(filename,\"w\") as f:\n",
    "        f.write(content)\n",
    "        print(\"your content is aaded in your file\")\n",
    "    \n",
    "write_file(\"text1.txt\",content)"
   ]
  },
  {
   "cell_type": "markdown",
   "id": "e47d2eb9-50e3-44a7-af95-c77cf4314efe",
   "metadata": {},
   "source": [
    "##### Question No.6"
   ]
  },
  {
   "cell_type": "code",
   "execution_count": 19,
   "id": "c972a404-6d5c-4e5d-858c-f179745a5d7c",
   "metadata": {},
   "outputs": [
    {
     "name": "stdin",
     "output_type": "stream",
     "text": [
      "enter name of source file  docu1.txt\n",
      "enter name of destination file docu3.txt\n"
     ]
    },
    {
     "name": "stdout",
     "output_type": "stream",
     "text": [
      "your file is copied sucessfully\n"
     ]
    }
   ],
   "source": [
    "'''\n",
    "Write a function copy_file(source_filename, destination_filename) that\n",
    "takes the source and destination filenames as input and copies the content of the source\n",
    "file to the destination file. Handle cases where the source file doesn't exist.\n",
    "'''\n",
    "def copy_file(source_filename, destination_filename):\n",
    "    try:\n",
    "        with open(source_filename,\"r\") as d1:\n",
    "            with open(destination_filename,\"w\") as d2:\n",
    "                for n in d1:\n",
    "                    d2.write(n)\n",
    "    except FileNotFoundError:\n",
    "        print(\"The source file doesn't exist.\")\n",
    "    except Exception as e:\n",
    "        print(\"Your error is \",e)\n",
    "    else:\n",
    "        print(\"your file is copied sucessfully\")\n",
    "source_filename = input(\"enter name of source file \")\n",
    "destination_filename = input(\"enter name of destination file\")\n",
    "copy_file(source_filename,destination_filename)"
   ]
  },
  {
   "cell_type": "markdown",
   "id": "abd7926e-ba8d-417d-b918-4886fcedd118",
   "metadata": {},
   "source": [
    "##### Question no.7"
   ]
  },
  {
   "cell_type": "code",
   "execution_count": 13,
   "id": "1c122e07-78e5-4b7a-b3e4-e3b119deedd5",
   "metadata": {},
   "outputs": [
    {
     "name": "stdout",
     "output_type": "stream",
     "text": [
      "[[16 13]\n",
      " [48 39]]\n"
     ]
    }
   ],
   "source": [
    "'''\n",
    "Implement a function to calculate the dot product of two NumPy arrays.\n",
    "'''\n",
    "import numpy as np\n",
    "def dot_product(arr1,arr2):\n",
    "    try:\n",
    "        res = arr1 @ arr2\n",
    "        return res\n",
    "    except Exception as e:\n",
    "        print(\"your error is : \",e)\n",
    "\n",
    "arr1 = np.array([[1,2],[3,6]])\n",
    "arr2 = np.array([[4,5],[6,4]])\n",
    "print(dot_product(arr1,arr2))"
   ]
  },
  {
   "cell_type": "markdown",
   "id": "bac067ab-9296-422d-b3d9-7b10d9253199",
   "metadata": {},
   "source": [
    "##### Question No.8"
   ]
  },
  {
   "cell_type": "code",
   "execution_count": 15,
   "id": "a5a87e90-a37c-48b3-8de0-ba8f6334662f",
   "metadata": {},
   "outputs": [],
   "source": [
    "'''\n",
    "implement a GUI with a radio button selection for choosing a favorite color (e.g., red,\n",
    "green, blue). Change the background color of the window based on the selected radio\n",
    "button.\n",
    "\n",
    "'''\n",
    "import tkinter as tk\n",
    "from tkinter import messagebox\n",
    "\n",
    "app = tk.Tk()\n",
    "app.title(\"RADIO BUTTON\")\n",
    "app.geometry(\"500x500\")\n",
    "\n",
    "def change():\n",
    "    selected_color = color_var.get()\n",
    "    if selected_color == \"Red\":\n",
    "        app.configure(bg = \"red\")\n",
    "    elif selected_color == \"Green\":\n",
    "        app.configure(bg = \"green\")\n",
    "    elif selected_color == \"Blue\":\n",
    "        app.configure(bg = \"blue\")\n",
    "    elif selected_color == \"Yellow\":\n",
    "        app.configure(bg = \"yellow\")\n",
    "    elif selected_color == \"Maroon\":\n",
    "        app.configure(bg = \"maroon\")\n",
    "    elif selected_color == \"Cyan\":\n",
    "        app.configure(bg = \"cyan\")\n",
    "    elif selected_color == \"Purple\":\n",
    "        app.configure(bg = \"purple\")\n",
    "    elif selected_color == \"Lavender\":\n",
    "        app.configure(bg = \"lavender\")\n",
    "        \n",
    "color_var = tk.StringVar(value=\"white\")\n",
    "\n",
    "r1 = tk.Radiobutton(app,text = \"Red\",command = change,value = \"Red\",variable = color_var,bg = \"red\",width = 10).pack(anchor = tk.CENTER,pady = 2)\n",
    "r2 = tk.Radiobutton(app,text = \"Green\",command = change,value = \"Green\",variable = color_var,bg = \"green\",width = 10).pack(anchor = tk.CENTER,pady = 2)\n",
    "r3 = tk.Radiobutton(app,text = \"Blue\",command = change,value = \"Blue\",variable = color_var,bg = \"blue\",width = 10).pack(anchor = tk.CENTER,pady = 2)\n",
    "r4 = tk.Radiobutton(app,text = \"Yellow\",command = change,value = \"Yellow\",variable = color_var,bg = \"yellow\",width = 10).pack(anchor = tk.CENTER,pady = 2)\n",
    "r5 = tk.Radiobutton(app,text = \"Maroon\",command = change,value = \"Maroon\",variable = color_var,bg = \"maroon\",width = 10).pack(anchor = tk.CENTER,pady = 2)\n",
    "r6 = tk.Radiobutton(app,text = \"Cyan\",command = change,value = \"Cyan\",variable = color_var,bg = \"cyan\",width = 10).pack(anchor = tk.CENTER,pady = 2)\n",
    "r7 = tk.Radiobutton(app,text = \"Purple\",command = change,value = \"Purple\",variable = color_var,bg = \"purple\",width = 10).pack(anchor = tk.CENTER,pady = 2)\n",
    "r8 = tk.Radiobutton(app,text = \"Lavender\",command = change,value = \"Lavender\",variable = color_var,bg = \"lavender\",width = 10).pack(anchor = tk.CENTER,pady = 2)\n",
    "tk.mainloop()"
   ]
  },
  {
   "cell_type": "markdown",
   "id": "5c8c2c1b-4906-4fd3-b4fb-898d0de1a3d2",
   "metadata": {},
   "source": [
    "##### Question No.9"
   ]
  },
  {
   "cell_type": "code",
   "execution_count": 17,
   "id": "736360bc-a98f-4bd6-8318-80d5500637c9",
   "metadata": {},
   "outputs": [],
   "source": [
    "'''\n",
    "Design a currency converter GUI. Allow users to enter an amount and select the\n",
    "currencies they want to convert between (e.g., USD, EUR). Display the converted\n",
    "amount in the selected currency\n",
    "'''\n",
    "import tkinter as tk\n",
    "from tkinter import messagebox\n",
    "\n",
    "\n",
    "\n",
    "top = tk.Tk()\n",
    "top.title(\"Currency Calculator\")\n",
    "top.geometry(\"700x700\")\n",
    "top.configure(bg = \"cornsilk\")\n",
    "inr = tk.IntVar()\n",
    "#i  = tk.PhotoImage(file = \"\")\n",
    "#bg = tk.Label(top,image = i)\n",
    "#bg.place(relwidth=1, relheight=1)\n",
    "\n",
    "def usd():\n",
    "    a = inr.get()\n",
    "    u = a/83\n",
    "    messagebox.showinfo(\"converter\",\"USD = %i\" %u )\n",
    "def eur():\n",
    "    a = inr.get()\n",
    "    e = a/89\n",
    "    messagebox.showinfo(\"converter\",\"EUR = %i\" %e )\n",
    "def pound():\n",
    "    a = inr.get()\n",
    "    p = a/105\n",
    "    messagebox.showinfo(\"converter\",\"POUND = %i\" %p )\n",
    "def dinar():\n",
    "    a = inr.get()\n",
    "    d = a/272\n",
    "    messagebox.showinfo(\"converter\",\"DINAR = %i\" %d )\n",
    "l = tk.Label(top,text = \"Enter your Amount in INR \",font = \"khand\", bg = \"snow3\").place(x = 250, y = 150)\n",
    "e = tk.Entry(top, textvariable = inr,width = 30).place(x = 270, y = 190)\n",
    "b1 = tk.Button(top,text = \"USD\",width = 20,bg = \"NavajoWhite3\",command = usd).place(x = 290, y = 220)\n",
    "b2 = tk.Button(top,text = \"EUR\",width = 20,bg = \"NavajoWhite3\",command = eur).place(x = 290, y = 250)\n",
    "b3 = tk.Button(top,text = \"POUND\",width = 20,bg = \"NavajoWhite3\",command = pound).place(x = 290, y = 280)\n",
    "b4 = tk.Button(top,text = \"DINAR\",width = 20,bg = \"NavajoWhite3\",command = dinar).place(x = 290, y = 310)\n",
    "top.mainloop()"
   ]
  },
  {
   "cell_type": "code",
   "execution_count": null,
   "id": "bdf9cc30-6961-438f-b30d-dfd98853b0f2",
   "metadata": {},
   "outputs": [],
   "source": []
  }
 ],
 "metadata": {
  "kernelspec": {
   "display_name": "Python 3 (ipykernel)",
   "language": "python",
   "name": "python3"
  },
  "language_info": {
   "codemirror_mode": {
    "name": "ipython",
    "version": 3
   },
   "file_extension": ".py",
   "mimetype": "text/x-python",
   "name": "python",
   "nbconvert_exporter": "python",
   "pygments_lexer": "ipython3",
   "version": "3.11.7"
  }
 },
 "nbformat": 4,
 "nbformat_minor": 5
}
