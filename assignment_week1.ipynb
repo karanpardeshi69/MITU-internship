{
 "cells": [
  {
   "cell_type": "markdown",
   "id": "2e826c4e-eef8-485f-a795-b1c94052e761",
   "metadata": {},
   "source": [
    "##### Question No. 1"
   ]
  },
  {
   "cell_type": "code",
   "execution_count": 24,
   "id": "bd3ed95d-939c-491b-9733-ccd7d7930e50",
   "metadata": {},
   "outputs": [
    {
     "name": "stdin",
     "output_type": "stream",
     "text": [
      "enter the numbers of Days = 740\n"
     ]
    },
    {
     "name": "stdout",
     "output_type": "stream",
     "text": [
      "Years :  2 Weeks :  1 Days :  3\n"
     ]
    }
   ],
   "source": [
    "'''Write a program to convert specified days into years, weeks and days.\n",
    "Take user input.\n",
    "Note: Ignore leap year.'''\n",
    "days = int(input(\"enter the numbers of Days =\"))\n",
    "years = days // 365\n",
    "rem_days = days % 365\n",
    "weeks = rem_days // 7\n",
    "day = rem_days % 7\n",
    "print(\"Years : \",years,\"Weeks : \",weeks,\"Days : \",day)"
   ]
  },
  {
   "cell_type": "markdown",
   "id": "5827a3d8-5dfa-4f49-aca0-c9fe1dd87291",
   "metadata": {},
   "source": [
    "##### Question No. 2"
   ]
  },
  {
   "cell_type": "code",
   "execution_count": 40,
   "id": "2698d452-dffc-4ecd-a382-43fefe2107c9",
   "metadata": {},
   "outputs": [
    {
     "name": "stdin",
     "output_type": "stream",
     "text": [
      "Enter your basic salary amount 21000\n"
     ]
    },
    {
     "name": "stdout",
     "output_type": "stream",
     "text": [
      "HRA amount =  7349.999999999999\n",
      "DA amount =  19950.0\n",
      "Your salary after adding HRA and DA =  48300.0\n"
     ]
    }
   ],
   "source": [
    "'''\n",
    "Write a Python program to input basiPython salary of an employee and\n",
    "calculate its Gross salary according to following:\n",
    "Basic Salary <= 10000 : HRA = 20%, DA = 80%\n",
    "Basic Salary <= 20000 : HRA = 30%, DA = 90%\n",
    "Basic Salary > 20000 : HRA = 35%, DA = 95%\n",
    "'''\n",
    "basic_sal = int(input(\"Enter your basic salary amount\"))\n",
    "if basic_sal <= 10000:\n",
    "    hra = 0.20 * basic_sal\n",
    "    print(\"HRA amount = \",hra)\n",
    "    da = 0.80 * basic_sal \n",
    "    print(\"DA amount = \",da)\n",
    "    total_sal = basic_sal + hra + da\n",
    "    print(\"Your salary after adding HRA and DA = \",total_sal)\n",
    "\n",
    "elif basic_sal <= 20000:\n",
    "    hra = 0.30 * basic_sal\n",
    "    print(\"HRA amount = \",hra)\n",
    "    da = 0.90 * basic_sal\n",
    "    print(\"DA amount = \",da)\n",
    "    total_sal = basic_sal + hra + da\n",
    "    print(\"Your salary after adding HRA and DA = \",total_sal)\n",
    "\n",
    "elif basic_sal > 20000:\n",
    "    hra = 0.35 * basic_sal\n",
    "    print(\"HRA amount = \",hra)\n",
    "    da = 0.95 * basic_sal\n",
    "    print(\"DA amount = \",da)\n",
    "    total_sal = basic_sal + hra + da\n",
    "    print(\"Your salary after adding HRA and DA = \",total_sal)"
   ]
  },
  {
   "cell_type": "markdown",
   "id": "52c513c5-e466-4f0c-8eec-937c8225da95",
   "metadata": {},
   "source": [
    "##### Question No.3"
   ]
  },
  {
   "cell_type": "code",
   "execution_count": 59,
   "id": "9558f761-99d3-40fc-977c-3326d7adebf0",
   "metadata": {},
   "outputs": [
    {
     "name": "stdin",
     "output_type": "stream",
     "text": [
      "enter the number of unit 250\n"
     ]
    },
    {
     "name": "stdout",
     "output_type": "stream",
     "text": [
      "total bill after adding surcharge =  263.25\n"
     ]
    }
   ],
   "source": [
    "'''\n",
    "Write a Python program to input electricity unit charges and calculate total\n",
    "electricity bill according to the given condition:\n",
    "For first 50 units Rs. 0.50/unit\n",
    "For next 100 units Rs. 0.75/unit\n",
    "For next 100 units Rs. 1.25/unit\n",
    "For unit above 250 Rs. 1.50/unit\n",
    "An additional surcharge of 17% is added to the bill\n",
    "'''\n",
    "units = int(input(\"enter the number of unit\"))\n",
    "if units <= 50:\n",
    "    total_bill = (50 * 0.50)\n",
    "elif units <= 150:\n",
    "    total_bill = (50 * 0.50) + (units - 50) * 0.75\n",
    "elif units <= 250:\n",
    "    total_bill = (50 * 0.50) + (100 * 0.75) + (units - 150) * 1.25\n",
    "else:\n",
    "    total_bill = (50 * 0.50) + (100 * 0.75) + (100 * 1.25) + (units - 250) * 1.50\n",
    "\n",
    "surcharge = total_bill * 0.17\n",
    "total_bill = total_bill + surcharge\n",
    "print(\"total bill after adding surcharge = \",total_bill)"
   ]
  },
  {
   "cell_type": "markdown",
   "id": "dc031dbf-0859-440f-84d7-007e57736471",
   "metadata": {},
   "source": [
    "##### Question No.4"
   ]
  },
  {
   "cell_type": "code",
   "execution_count": 67,
   "id": "7d02b05f-3523-4591-b23b-7708c2b725c8",
   "metadata": {},
   "outputs": [
    {
     "name": "stdout",
     "output_type": "stream",
     "text": [
      "1 \n",
      "2 2 \n",
      "3 3 3 \n",
      "4 4 4 4 \n",
      "5 5 5 5 5 \n"
     ]
    }
   ],
   "source": [
    "'''\n",
    "Write a Python program to print the given number patterns.\n",
    "1\n",
    "2 2\n",
    "3 3 3\n",
    "4 4 4 4\n",
    "5 5 5 5 5\n",
    "'''\n",
    "for i  in range(1,6):\n",
    "    for j in range(i):\n",
    "        print(i,end =\" \")\n",
    "    print() "
   ]
  },
  {
   "cell_type": "markdown",
   "id": "febf954e-571b-432a-bb95-82aaf6f3d88c",
   "metadata": {},
   "source": [
    "##### Question No.5"
   ]
  },
  {
   "cell_type": "code",
   "execution_count": 7,
   "id": "dd1717aa-b28c-4243-ab14-a20e175c4fbe",
   "metadata": {},
   "outputs": [
    {
     "name": "stdin",
     "output_type": "stream",
     "text": [
      "Enter the number 123456\n"
     ]
    },
    {
     "name": "stdout",
     "output_type": "stream",
     "text": [
      "720\n"
     ]
    }
   ],
   "source": [
    "'''\n",
    "Write a Python program to calculate product of digits of a number. Read\n",
    "value of n from user.\n",
    "'''\n",
    "num = int(input(\"Enter the number\"))\n",
    "mul = 1\n",
    "while num > 0:\n",
    "    rem = num % 10\n",
    "    mul = mul * rem\n",
    "    num = num // 10\n",
    "else:\n",
    "    print(mul)"
   ]
  },
  {
   "cell_type": "markdown",
   "id": "4703b8cc-cbd4-44f4-ad4d-d3720b1f3ddd",
   "metadata": {},
   "source": [
    "##### Question No.6"
   ]
  },
  {
   "cell_type": "code",
   "execution_count": 54,
   "id": "7a0384ec-cc7b-4887-9fbd-71d742abf299",
   "metadata": {},
   "outputs": [
    {
     "name": "stdout",
     "output_type": "stream",
     "text": [
      "['Hello', 'World']\n",
      "['HELLO', 'WORLD']\n",
      "124\n",
      "False\n",
      "['World', 23.45, 'Hello', 12, 67, 45]\n",
      "[45, 67, 12, 23.45, 'World']\n",
      "[45, 67, 12, 23.45, 'World', 36]\n",
      "6\n",
      "12 36\n",
      "[45, 67, 12, 23.45, 'World', 36, 34, 'Pune']\n",
      "[45, 67, 12, 23.45, 'World', 36, 34]\n"
     ]
    }
   ],
   "source": [
    "'''\n",
    "Create a list of elements like: x = [45, 67, 12, ‘Hello’, 23.45, ‘World’] and\n",
    "perform following\n",
    "operations\n",
    "'''\n",
    "x = [45, 67, 12, \"Hello\", 23.45, \"World\"]\n",
    "#1. Extract only string values from this list.\n",
    "x1 = []\n",
    "for n in x:\n",
    "    if type(n) == str:\n",
    "        x1.append(n)\n",
    "print(x1)   \n",
    "#2. Create a new list with strings in upper case.\n",
    "x2 = []\n",
    "for n in x:\n",
    "    if type(n) == str:\n",
    "        x2.append(n.upper())\n",
    "print(x2)\n",
    "#3. Find the addition of integer values\n",
    "sum = 0\n",
    "for n in x:\n",
    "    if type(n) == int:\n",
    "        sum = sum + n\n",
    "print(sum)\n",
    "#4. Check that the value 56 is present in it or not.\n",
    "print(56 in x)\n",
    "#5. Print the list in reverse order.\n",
    "print(x[::-1])\n",
    "#6. Delete the string ‘Hello’ from it.\n",
    "del x[3]\n",
    "print(x)\n",
    "#7. Insert a new value of 36 at 5th position in list.\n",
    "x.insert(5,36)\n",
    "print(x)\n",
    "#8. Count total number of elements in list now.\n",
    "print(len(x))\n",
    "#9. Extract the values from 2nd index to 5th index.\n",
    "print(x[2],x[5])\n",
    "#10. Append [34, ‘Pune’] to this list.\n",
    "x.append(34)\n",
    "x.append(\"Pune\")\n",
    "print(x)\n",
    "#11. Delete the last element from list.\n",
    "del x[-1]\n",
    "print(x)"
   ]
  },
  {
   "cell_type": "markdown",
   "id": "e743e3e7-37fa-4ac6-b838-d13fd2e8dab9",
   "metadata": {},
   "source": [
    "##### Question No.7"
   ]
  },
  {
   "cell_type": "code",
   "execution_count": 61,
   "id": "051b442f-b386-4102-a799-fcc798029e7f",
   "metadata": {},
   "outputs": [
    {
     "name": "stdout",
     "output_type": "stream",
     "text": [
      "[2.5, 6.9, 12.9, 14.4, 32.3]\n",
      "False\n",
      "{32.3, 2.5, 6.9, 12.9, 14.4}\n"
     ]
    }
   ],
   "source": [
    "'''\n",
    "Create a tuple of elements with 5 float values in it and perform following\n",
    "operations.\n",
    "'''\n",
    "tup1 = (2.5,6.9,14.4,12.9,32.3)\n",
    "#1. Print the data in sorted manner.\n",
    "print(sorted(tup1))\n",
    "#2. Check to see that the element 50 is present in it.\n",
    "print(50 in tup1)\n",
    "#3. Convert this tuple in set.\n",
    "print(set(tup1))"
   ]
  },
  {
   "cell_type": "markdown",
   "id": "db7625f0-3922-4af8-b244-5c1fc47bf5c8",
   "metadata": {},
   "source": [
    "##### Question No.8"
   ]
  },
  {
   "cell_type": "code",
   "execution_count": 82,
   "id": "123bbe40-c53a-4d4b-a372-57896ee908e4",
   "metadata": {},
   "outputs": [
    {
     "name": "stdout",
     "output_type": "stream",
     "text": [
      "king\n",
      "{'a': 'apple', 'b': 'ball', 'c': 'cat', 'd': 'doll', 'k': 'king', 'z': 'zebra'}\n",
      "{'a': 'apple', 'b': 'ball', 'c': 'cat', 'd': 'dog', 'k': 'king', 'z': 'zebra'}\n",
      "dict_values(['apple', 'ball', 'cat', 'dog', 'king', 'zebra'])\n",
      "6\n"
     ]
    }
   ],
   "source": [
    "'''\n",
    " Create a dictionary of elements: {‘a’: ‘apple’, ‘b’: ‘ball’, ‘c’: ‘cat’, ‘d’: ‘doll’, ‘k’:\n",
    "‘king’} and\n",
    "perform following operations.\n",
    "\n",
    "\n",
    "'''\n",
    "dict1 = {'a':\"apple\",'b':\"ball\",'c':\"cat\",'d':\"doll\",'k':\"king\"}\n",
    "# 1. Access the data at key ‘k’.\n",
    "print(dict1['k'])\n",
    "# 2. Add a new values ‘z’: ‘zebra’\n",
    "dict1['z'] = \"zebra\"\n",
    "print(dict1)\n",
    "#3. Replace the contents of ‘d’ as ‘dog’\n",
    "dict1['d'] = \"dog\"\n",
    "print(dict1)\n",
    "#4. Print all the values from this dictionary.\n",
    "print(dict1.values())\n",
    "#5. Find the length of this dictionary.\n",
    "print(len(dict1))"
   ]
  },
  {
   "cell_type": "markdown",
   "id": "8331ab53-3b46-43a7-8fdc-f35880b7840d",
   "metadata": {},
   "source": [
    "##### Question No.9"
   ]
  },
  {
   "cell_type": "code",
   "execution_count": null,
   "id": "46c2d3d4-f836-48ff-b289-732f6972e364",
   "metadata": {},
   "outputs": [],
   "source": [
    "'''\n",
    "9. Write a program to find the second largest element in a list\n",
    "'''\n",
    "List1 = [12,45,24,68,53,67,98,76]\n",
    "List2 = sorted(List1, reverse = True)\n",
    "print(List2)\n",
    "second_largest = List2[1]\n",
    "print(\"Second largest number is \",second_largest)"
   ]
  },
  {
   "cell_type": "markdown",
   "id": "d5117246-1be7-4d10-b607-cbbcbe84d37d",
   "metadata": {},
   "source": [
    "##### Question No.10"
   ]
  },
  {
   "cell_type": "code",
   "execution_count": 105,
   "id": "33d51b30-2dd6-4b55-abdc-e76b82ba79d2",
   "metadata": {},
   "outputs": [
    {
     "name": "stdout",
     "output_type": "stream",
     "text": [
      "['silver', 'gold', 'platinum', 'lead', 'iron', 'aluminium']\n"
     ]
    }
   ],
   "source": [
    "'''\n",
    "This is a list of some metallic elements.\n",
    "metals = [ 'silver','gold', ... ]\n",
    "Make a new list that is almost identical to the metals list: the new\n",
    "contains the same items, in the same order, except that it does NOT\n",
    "contain the item 'copper'\n",
    "'''\n",
    "metals = [\"silver\",\"gold\",\"platinum\",\"copper\",\"lead\",\"iron\",\"aluminium\"]\n",
    "metals1 = []\n",
    "for n in metals:\n",
    "    if n != \"copper\":\n",
    "        metals1.append(n)\n",
    "\n",
    "print(metals1)"
   ]
  },
  {
   "cell_type": "code",
   "execution_count": null,
   "id": "bc8048c4-5c55-43b7-ba06-8d3695c49f44",
   "metadata": {},
   "outputs": [],
   "source": []
  }
 ],
 "metadata": {
  "kernelspec": {
   "display_name": "Python 3 (ipykernel)",
   "language": "python",
   "name": "python3"
  },
  "language_info": {
   "codemirror_mode": {
    "name": "ipython",
    "version": 3
   },
   "file_extension": ".py",
   "mimetype": "text/x-python",
   "name": "python",
   "nbconvert_exporter": "python",
   "pygments_lexer": "ipython3",
   "version": "3.11.7"
  }
 },
 "nbformat": 4,
 "nbformat_minor": 5
}
