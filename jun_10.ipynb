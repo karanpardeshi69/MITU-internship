{
 "cells": [
  {
   "cell_type": "markdown",
   "id": "aa1eacad-1d3c-45cb-b416-1c064e17bb16",
   "metadata": {},
   "source": [
    "## Function"
   ]
  },
  {
   "cell_type": "code",
   "execution_count": 2,
   "id": "3fa26f94-3d4e-4c7d-9929-c44853312d0b",
   "metadata": {},
   "outputs": [
    {
     "name": "stdout",
     "output_type": "stream",
     "text": [
      "hello\n",
      "this is function\n"
     ]
    }
   ],
   "source": [
    "def show():\n",
    "    print(\"hello\")\n",
    "    print(\"this is function\")\n",
    "show()"
   ]
  },
  {
   "cell_type": "code",
   "execution_count": 4,
   "id": "7dbfefd4-b1f9-413e-8e95-9b7c9e54c672",
   "metadata": {},
   "outputs": [
    {
     "name": "stdout",
     "output_type": "stream",
     "text": [
      "square is =  10000\n"
     ]
    }
   ],
   "source": [
    "# parameterized function\n",
    "def square(n):\n",
    "    result = n * n\n",
    "    print(\"square is = \",result)\n",
    "square(100)    "
   ]
  },
  {
   "cell_type": "code",
   "execution_count": 10,
   "id": "fd6f4ef6-e971-4f8a-b925-5fe465161283",
   "metadata": {},
   "outputs": [
    {
     "name": "stdin",
     "output_type": "stream",
     "text": [
      "enter a number 7\n"
     ]
    },
    {
     "name": "stdout",
     "output_type": "stream",
     "text": [
      "square is =  49\n"
     ]
    }
   ],
   "source": [
    "num = int(input(\"enter a number\"))\n",
    "square(num)"
   ]
  },
  {
   "cell_type": "code",
   "execution_count": 20,
   "id": "eb34ab39-c65c-489b-89c3-7489c651944a",
   "metadata": {},
   "outputs": [
    {
     "name": "stdout",
     "output_type": "stream",
     "text": [
      "greater number is =  199\n"
     ]
    }
   ],
   "source": [
    "# multi-parameterized function\n",
    "def largest(a,b):\n",
    "    if a>b:\n",
    "        print(\"greater number is = \",a)\n",
    "    elif a == b:\n",
    "        print(\"equal\")\n",
    "    else:\n",
    "        print(\"greater number is = \",b)\n",
    "\n",
    "largest(10,199)"
   ]
  },
  {
   "cell_type": "code",
   "execution_count": 19,
   "id": "fabf2ef4-3cd2-44bf-a51c-b09f0feb6d86",
   "metadata": {},
   "outputs": [
    {
     "name": "stdout",
     "output_type": "stream",
     "text": [
      "karan\n",
      "karan\n",
      "karan\n",
      "karan\n",
      "karan\n",
      "karan\n",
      "karan\n",
      "karan\n",
      "karan\n"
     ]
    }
   ],
   "source": [
    "# write a function which will print a string n times \n",
    "def print_str(str,n):\n",
    "    for i in range(n):\n",
    "        print(str)\n",
    "\n",
    "print_str(\"karan\",9)"
   ]
  },
  {
   "cell_type": "code",
   "execution_count": 23,
   "id": "4d7f6ab7-e835-4b1d-ae02-17e6ffc1817c",
   "metadata": {},
   "outputs": [
    {
     "data": {
      "text/plain": [
       "120"
      ]
     },
     "execution_count": 23,
     "metadata": {},
     "output_type": "execute_result"
    }
   ],
   "source": [
    "# function for factorial\n",
    "def facto(n):\n",
    "    fact = 1\n",
    "    i = 1\n",
    "    for i in range(i,n+1):\n",
    "        fact = fact * i\n",
    "    return fact\n",
    "facto(5)\n"
   ]
  },
  {
   "cell_type": "code",
   "execution_count": 3,
   "id": "c9b2810f-a1c2-45b5-8634-3a3d1536327f",
   "metadata": {},
   "outputs": [
    {
     "data": {
      "text/plain": [
       "25"
      ]
     },
     "execution_count": 3,
     "metadata": {},
     "output_type": "execute_result"
    }
   ],
   "source": [
    "# functions returning value\n",
    "def square(n):\n",
    "    result = n * n\n",
    "    return result\n",
    "square(5)"
   ]
  },
  {
   "cell_type": "code",
   "execution_count": 11,
   "id": "b84ea11a-577f-4573-8e18-fdf842e949a2",
   "metadata": {},
   "outputs": [
    {
     "name": "stdout",
     "output_type": "stream",
     "text": [
      "30\n"
     ]
    }
   ],
   "source": [
    "##  diiference between return and print\n",
    "def add(a,b):\n",
    "    result = a + b\n",
    "    print(result)\n",
    "add(10,20)"
   ]
  },
  {
   "cell_type": "code",
   "execution_count": 17,
   "id": "b06647d9-0d10-40f1-b6b1-64494fe79477",
   "metadata": {},
   "outputs": [
    {
     "name": "stdout",
     "output_type": "stream",
     "text": [
      "30\n",
      "39\n"
     ]
    }
   ],
   "source": [
    "def add(a,b):\n",
    "    result = a + b\n",
    "    return result\n",
    "print(add(10,20))\n",
    "op  =  add(10,29)\n",
    "print(op)"
   ]
  },
  {
   "cell_type": "code",
   "execution_count": 33,
   "id": "47808f1a-9577-445e-b6db-7938823ef821",
   "metadata": {},
   "outputs": [
    {
     "name": "stdout",
     "output_type": "stream",
     "text": [
      "69\n"
     ]
    }
   ],
   "source": [
    "## multiple returns in one function\n",
    "def largest(a,b):\n",
    "    if a>b:\n",
    "        return a\n",
    "    elif a == b:\n",
    "        return \"equal\"\n",
    "    else:\n",
    "        return b\n",
    "\n",
    "print(largest(69,67))"
   ]
  },
  {
   "cell_type": "code",
   "execution_count": 65,
   "id": "78a1cfa7-3974-4f6f-a2c7-da92b5020d50",
   "metadata": {},
   "outputs": [
    {
     "name": "stdout",
     "output_type": "stream",
     "text": [
      "120.0\n"
     ]
    }
   ],
   "source": [
    "\n",
    "def ncr(n,r):\n",
    "    res =  facto(n)/ (facto(r) * facto(n-r))\n",
    "    return res\n",
    "print(ncr(10,3))"
   ]
  },
  {
   "cell_type": "code",
   "execution_count": 75,
   "id": "983737a3-ff8f-410f-911e-12135b96873e",
   "metadata": {},
   "outputs": [
    {
     "name": "stdout",
     "output_type": "stream",
     "text": [
      "(25, 125)\n"
     ]
    }
   ],
   "source": [
    "## multi return value \n",
    "def calc(n):\n",
    "    sq = n*n\n",
    "    cu = n*n*n\n",
    "    return sq,cu\n",
    "    \n",
    "print(calc(5))"
   ]
  },
  {
   "cell_type": "code",
   "execution_count": 79,
   "id": "464bf12a-dcda-4185-bec0-7357e5d7374b",
   "metadata": {},
   "outputs": [
    {
     "name": "stdin",
     "output_type": "stream",
     "text": [
      "enter the number 10\n"
     ]
    },
    {
     "name": "stdout",
     "output_type": "stream",
     "text": [
      "square 100\n",
      "cube 1000\n"
     ]
    }
   ],
   "source": [
    "n = int(input(\"enter the number\"))\n",
    "x , y = calc(n)\n",
    "print(\"square\", x)\n",
    "print(\"cube\", y)"
   ]
  },
  {
   "cell_type": "code",
   "execution_count": 87,
   "id": "5c5d227c-14a8-410c-9ba8-f8051a36df03",
   "metadata": {},
   "outputs": [
    {
     "name": "stdout",
     "output_type": "stream",
     "text": [
      "35\n",
      "100\n",
      "110\n",
      "70\n"
     ]
    }
   ],
   "source": [
    "# dafault parameter\n",
    "def add3(a = 5,b = 10,c = 20):\n",
    "    result = a + b + c\n",
    "    return result\n",
    "print(add3())\n",
    "print(add3(10,20,70))\n",
    "print(add3(20,70))\n",
    "print(add3(a = 10,c = 50))"
   ]
  },
  {
   "cell_type": "code",
   "execution_count": 89,
   "id": "16cb75c9-fb89-4b1d-b92d-0d51a0d6631d",
   "metadata": {},
   "outputs": [
    {
     "name": "stdout",
     "output_type": "stream",
     "text": [
      "106\n"
     ]
    }
   ],
   "source": [
    "def add3(a,b = 10,c = 20):\n",
    "    result = a + b + c\n",
    "    return result\n",
    "print(add3(76))"
   ]
  },
  {
   "cell_type": "code",
   "execution_count": 105,
   "id": "e63db127-0d2e-4319-985d-9152d83e5769",
   "metadata": {},
   "outputs": [
    {
     "name": "stdout",
     "output_type": "stream",
     "text": [
      "98 43 56 857 89 3.0 karan "
     ]
    }
   ],
   "source": [
    "# infinite number of args \n",
    "def in1(*args):\n",
    "    for i in args:\n",
    "        print(i, end = \" \")\n",
    "in1(98,43,56,857,89,3.0,\"karan\")"
   ]
  },
  {
   "cell_type": "code",
   "execution_count": 107,
   "id": "b7d000fd-daa9-4259-a7a9-6f99b9174296",
   "metadata": {},
   "outputs": [
    {
     "data": {
      "text/plain": [
       "25"
      ]
     },
     "execution_count": 107,
     "metadata": {},
     "output_type": "execute_result"
    }
   ],
   "source": [
    "# lambda function\n",
    "\n",
    "square = lambda x:x*x\n",
    "square(5)"
   ]
  },
  {
   "cell_type": "code",
   "execution_count": 109,
   "id": "a5ec90e2-b337-42c1-ac17-d49577ea95ad",
   "metadata": {},
   "outputs": [
    {
     "data": {
      "text/plain": [
       "30"
      ]
     },
     "execution_count": 109,
     "metadata": {},
     "output_type": "execute_result"
    }
   ],
   "source": [
    "# addition of two numbers using lambda \n",
    "add = lambda x,y:x+y\n",
    "add(10,20)"
   ]
  },
  {
   "cell_type": "code",
   "execution_count": 123,
   "id": "a28113f8-10fd-4985-b943-25303d6d58aa",
   "metadata": {},
   "outputs": [
    {
     "data": {
      "text/plain": [
       "[False, False, True, True, True, True, True]"
      ]
     },
     "execution_count": 123,
     "metadata": {},
     "output_type": "execute_result"
    }
   ],
   "source": [
    "# filtering list with lambda function\n",
    "num = [34,24,234,789,123,64,67]\n",
    "new = filter(lambda x : x > 40,num)\n",
    "list(new)\n"
   ]
  },
  {
   "cell_type": "code",
   "execution_count": 121,
   "id": "0fad1505-bd77-4c4f-999b-82a2fd92f84b",
   "metadata": {},
   "outputs": [
    {
     "data": {
      "text/plain": [
       "[17.0, 12.0, 117.0, 394.5, 61.5, 32.0, 33.5]"
      ]
     },
     "execution_count": 121,
     "metadata": {},
     "output_type": "execute_result"
    }
   ],
   "source": [
    "# maping list wiht lambda function\n",
    "num = [34,24,234,789,123,64,67]\n",
    "new = map(lambda x : x/2,num)\n",
    "list(new)"
   ]
  },
  {
   "cell_type": "markdown",
   "id": "896ca0be-2d98-4035-804b-e4ee72a4cfe4",
   "metadata": {},
   "source": [
    "# Modules"
   ]
  },
  {
   "cell_type": "code",
   "execution_count": 131,
   "id": "65734637-9ed7-4663-89e3-25aebd7f7629",
   "metadata": {},
   "outputs": [
    {
     "data": {
      "text/plain": [
       "10.0"
      ]
     },
     "execution_count": 131,
     "metadata": {},
     "output_type": "execute_result"
    }
   ],
   "source": [
    "import math\n",
    "math.sqrt(100)"
   ]
  },
  {
   "cell_type": "code",
   "execution_count": 133,
   "id": "4d2643a8-6ba4-4cc4-9c00-b01c7d82cb44",
   "metadata": {},
   "outputs": [
    {
     "data": {
      "text/plain": [
       "-0.9880316240928618"
      ]
     },
     "execution_count": 133,
     "metadata": {},
     "output_type": "execute_result"
    }
   ],
   "source": [
    "math.sin(30)"
   ]
  },
  {
   "cell_type": "code",
   "execution_count": 137,
   "id": "e11a74a5-4c18-438d-a019-69fea2b96073",
   "metadata": {},
   "outputs": [
    {
     "data": {
      "text/plain": [
       "2.302585092994046"
      ]
     },
     "execution_count": 137,
     "metadata": {},
     "output_type": "execute_result"
    }
   ],
   "source": [
    "math.log(10)"
   ]
  },
  {
   "cell_type": "code",
   "execution_count": 147,
   "id": "d3905c67-9c50-4976-9b30-4c3e42d18fa8",
   "metadata": {},
   "outputs": [
    {
     "name": "stdin",
     "output_type": "stream",
     "text": [
      "enter the value of radius 5\n"
     ]
    },
    {
     "name": "stdout",
     "output_type": "stream",
     "text": [
      "78.53981633974483\n"
     ]
    }
   ],
   "source": [
    "# read radius and find area\n",
    "r = int(input(\"enter the value of radius\"))\n",
    "area = math.pi*(r*r)\n",
    "print(area)"
   ]
  },
  {
   "cell_type": "code",
   "execution_count": 149,
   "id": "9761d03a-3ed0-407d-9b03-2d9b731c2af3",
   "metadata": {},
   "outputs": [
    {
     "data": {
      "text/plain": [
       "'Mon Jun 10 12:10:23 2024'"
      ]
     },
     "execution_count": 149,
     "metadata": {},
     "output_type": "execute_result"
    }
   ],
   "source": [
    "import time\n",
    "time.asctime()"
   ]
  },
  {
   "cell_type": "code",
   "execution_count": 153,
   "id": "5eafe6db-37db-4f3c-a313-cc99b87eda79",
   "metadata": {},
   "outputs": [
    {
     "name": "stdout",
     "output_type": "stream",
     "text": [
      "karan\n",
      "uth ja\n"
     ]
    }
   ],
   "source": [
    "print(\"karan\")\n",
    "time.sleep(4)\n",
    "print(\"uth ja\")"
   ]
  },
  {
   "cell_type": "code",
   "execution_count": 155,
   "id": "40113068-c764-4e7d-8a8f-a85b41c201d4",
   "metadata": {},
   "outputs": [
    {
     "data": {
      "text/plain": [
       "3.141592653589793"
      ]
     },
     "execution_count": 155,
     "metadata": {},
     "output_type": "execute_result"
    }
   ],
   "source": [
    "import math as m\n",
    "m.pi"
   ]
  },
  {
   "cell_type": "code",
   "execution_count": 163,
   "id": "f1f9a9e6-c069-4652-bc98-c642411a16ce",
   "metadata": {},
   "outputs": [
    {
     "data": {
      "text/plain": [
       "4.0"
      ]
     },
     "execution_count": 163,
     "metadata": {},
     "output_type": "execute_result"
    }
   ],
   "source": [
    "from math import sqrt,pi,e,sin# slective import\n",
    "sqrt(16)"
   ]
  },
  {
   "cell_type": "code",
   "execution_count": 170,
   "id": "ef464a6a-b6ba-4ce2-97eb-c4c553268d02",
   "metadata": {},
   "outputs": [
    {
     "name": "stdout",
     "output_type": "stream",
     "text": [
      "karan\n",
      "hello\n"
     ]
    }
   ],
   "source": [
    "import mod1 as m\n",
    "m.show1()"
   ]
  },
  {
   "cell_type": "code",
   "execution_count": null,
   "id": "ce95b207-dab8-44cc-869b-a9e366844980",
   "metadata": {},
   "outputs": [],
   "source": []
  }
 ],
 "metadata": {
  "kernelspec": {
   "display_name": "Python 3 (ipykernel)",
   "language": "python",
   "name": "python3"
  },
  "language_info": {
   "codemirror_mode": {
    "name": "ipython",
    "version": 3
   },
   "file_extension": ".py",
   "mimetype": "text/x-python",
   "name": "python",
   "nbconvert_exporter": "python",
   "pygments_lexer": "ipython3",
   "version": "3.11.7"
  }
 },
 "nbformat": 4,
 "nbformat_minor": 5
}
