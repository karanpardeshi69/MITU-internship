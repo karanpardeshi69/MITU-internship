{
 "cells": [
  {
   "cell_type": "markdown",
   "id": "effa9305-8c1c-4d44-a973-af1ec4ce6830",
   "metadata": {},
   "source": [
    "# File Handling "
   ]
  },
  {
   "cell_type": "code",
   "execution_count": 28,
   "id": "b9374560-f197-4d02-ab28-54c090891858",
   "metadata": {},
   "outputs": [
    {
     "name": "stdout",
     "output_type": "stream",
     "text": [
      "doc1.txt\n",
      "Artificial Intelligence Markup Language (AIML) is a specialized XML dialect used for creating and managing conversational agents or chatbots. Developed by Richard Wallace in the mid-1990s, AIML enables the construction of natural language processing (NLP) systems capable of understanding and responding to human inputs. AIML files consist of various patterns and templates, where patterns represent the possible user inputs and templates define the corresponding bot responses. This structure allows developers to design complex dialogue systems with relative ease by leveraging pattern matching techniques. AIML-powered chatbots have been widely adopted in customer service, virtual assistants, and educational tools, demonstrating significant versatility and effectiveness in automating interactive communication tasks. With the ongoing advancements in AI and machine learning, AIML continues to evolve, integrating more sophisticated algorithms and capabilities to enhance user experience and conversational depth.\n",
      "r\n"
     ]
    }
   ],
   "source": [
    "f = open(\"doc1.txt\",\"r\")\n",
    "print(f.name)\n",
    "print(f.read())"
   ]
  },
  {
   "cell_type": "code",
   "execution_count": 30,
   "id": "758d3def-16c3-43ee-8948-52a4f406b3a6",
   "metadata": {},
   "outputs": [
    {
     "name": "stdout",
     "output_type": "stream",
     "text": [
      "r\n"
     ]
    }
   ],
   "source": [
    "print(f.mode)"
   ]
  },
  {
   "cell_type": "code",
   "execution_count": 32,
   "id": "791540e8-49ce-4a06-a726-5a7ff7230729",
   "metadata": {},
   "outputs": [],
   "source": [
    "f.close()"
   ]
  },
  {
   "cell_type": "code",
   "execution_count": 38,
   "id": "db43e174-1421-4062-8aea-4312bface2e2",
   "metadata": {},
   "outputs": [
    {
     "data": {
      "text/plain": [
       "True"
      ]
     },
     "execution_count": 38,
     "metadata": {},
     "output_type": "execute_result"
    }
   ],
   "source": [
    "f.closed"
   ]
  },
  {
   "cell_type": "code",
   "execution_count": 40,
   "id": "e7b57172-b2be-4004-9563-caf1049cdbf1",
   "metadata": {},
   "outputs": [],
   "source": [
    "# open with context manager\n",
    "with open(\"doc1.txt\",\"r\") as f:\n",
    "    pass"
   ]
  },
  {
   "cell_type": "code",
   "execution_count": 42,
   "id": "743239b6-aefc-4200-a442-02ce947af0a6",
   "metadata": {},
   "outputs": [
    {
     "data": {
      "text/plain": [
       "True"
      ]
     },
     "execution_count": 42,
     "metadata": {},
     "output_type": "execute_result"
    }
   ],
   "source": [
    "f.closed"
   ]
  },
  {
   "cell_type": "code",
   "execution_count": 44,
   "id": "89a0a029-6dad-40a4-9337-dafc68733f7e",
   "metadata": {},
   "outputs": [
    {
     "name": "stdout",
     "output_type": "stream",
     "text": [
      "Artificial Intelligence Markup Language (AIML) is a specialized XML dialect used for creating and managing conversational agents or chatbots. Developed by Richard Wallace in the mid-1990s, AIML enables the construction of natural language processing (NLP) systems capable of understanding and responding to human inputs. AIML files consist of various patterns and templates, where patterns represent the possible user inputs and templates define the corresponding bot responses. This structure allows developers to design complex dialogue systems with relative ease by leveraging pattern matching techniques. AIML-powered chatbots have been widely adopted in customer service, virtual assistants, and educational tools, demonstrating significant versatility and effectiveness in automating interactive communication tasks. With the ongoing advancements in AI and machine learning, AIML continues to evolve, integrating more sophisticated algorithms and capabilities to enhance user experience and conversational depth.\n"
     ]
    }
   ],
   "source": [
    "with open(\"doc1.txt\",\"r\") as f:\n",
    "    content = f.read()\n",
    "    print(content)"
   ]
  },
  {
   "cell_type": "code",
   "execution_count": 46,
   "id": "975f32f3-131e-4265-b6ac-d5f46da3df79",
   "metadata": {},
   "outputs": [
    {
     "name": "stdout",
     "output_type": "stream",
     "text": [
      "['Artificial Intelligence Markup Language (AIML) is a specialized XML dialect used for creating and managing conversational agents or chatbots. Developed by Richard Wallace in the mid-1990s, AIML enables the construction of natural language processing (NLP) systems capable of understanding and responding to human inputs. AIML files consist of various patterns and templates, where patterns represent the possible user inputs and templates define the corresponding bot responses. This structure allows developers to design complex dialogue systems with relative ease by leveraging pattern matching techniques. AIML-powered chatbots have been widely adopted in customer service, virtual assistants, and educational tools, demonstrating significant versatility and effectiveness in automating interactive communication tasks. With the ongoing advancements in AI and machine learning, AIML continues to evolve, integrating more sophisticated algorithms and capabilities to enhance user experience and conversational depth.']\n"
     ]
    }
   ],
   "source": [
    "with open(\"doc1.txt\",\"r\") as f:\n",
    "    content = f.read()\n",
    "    print(content)"
   ]
  },
  {
   "cell_type": "code",
   "execution_count": 52,
   "id": "e603101a-1dda-41c3-9b28-196e3ae87992",
   "metadata": {},
   "outputs": [
    {
     "name": "stdout",
     "output_type": "stream",
     "text": [
      "['this is first line \\n', 'this is second line \\n', 'this is third line\\n', 'this is fourth line']\n"
     ]
    }
   ],
   "source": [
    "with open(\"doc2.txt\",\"r\") as f:\n",
    "    content = f.readlines()\n",
    "    print(content)"
   ]
  },
  {
   "cell_type": "code",
   "execution_count": 60,
   "id": "7a861b76-320d-4fdb-b1c6-a0836953bd46",
   "metadata": {},
   "outputs": [
    {
     "name": "stdout",
     "output_type": "stream",
     "text": [
      "this is first line \n",
      " this is second line \n",
      "\n"
     ]
    }
   ],
   "source": [
    "with open(\"doc2.txt\",\"r\") as f:\n",
    "    content = f.readline()\n",
    "    print(content,end = \" \")\n",
    "    content = f.readline()\n",
    "    print(content)"
   ]
  },
  {
   "cell_type": "code",
   "execution_count": 87,
   "id": "d36fdae0-b659-431a-a688-e847a338d2ad",
   "metadata": {},
   "outputs": [
    {
     "name": "stdout",
     "output_type": "stream",
     "text": [
      "this is first line \n",
      " this is second line \n",
      " this is third line\n",
      " this is fourth line\n",
      " this is fifth line "
     ]
    }
   ],
   "source": [
    "with open(\"doc2.txt\",\"r\") as f:\n",
    "    for n in f:\n",
    "        print(n,end = \" \" )"
   ]
  },
  {
   "cell_type": "code",
   "execution_count": 91,
   "id": "6a04b9ba-5d9d-4252-9212-76134cb439aa",
   "metadata": {},
   "outputs": [
    {
     "name": "stdout",
     "output_type": "stream",
     "text": [
      "thi\n"
     ]
    }
   ],
   "source": [
    "# read the 3 characters\n",
    "with open(\"doc2.txt\",\"r\") as f:\n",
    "    content = f.read(3)\n",
    "    print(content)"
   ]
  },
  {
   "cell_type": "code",
   "execution_count": 7,
   "id": "88218920-0fbb-4304-8d04-053f60baf263",
   "metadata": {},
   "outputs": [
    {
     "name": "stdout",
     "output_type": "stream",
     "text": [
      "this  is fi rst l ine \n",
      " this  is se cond  line  \n",
      "this  is t hird  line\n",
      " this  is fo urth  line\n",
      " this  is fi fth l ine "
     ]
    }
   ],
   "source": [
    "# use while loop to read entire file.. 5 characters at a time\n",
    "with open(\"doc2.txt\",\"r\") as f:\n",
    "    size = 5\n",
    "    content = f.read(size)\n",
    "    while len(content) > 0:\n",
    "        print(content, end = \" \")\n",
    "        content = f.read(size)"
   ]
  },
  {
   "cell_type": "code",
   "execution_count": 13,
   "id": "539150ad-ede1-4231-ac67-ba87e9b30c5f",
   "metadata": {},
   "outputs": [
    {
     "name": "stdout",
     "output_type": "stream",
     "text": [
      "this \n",
      "this \n"
     ]
    }
   ],
   "source": [
    "# in 2nd phase start from the start again\n",
    "with open(\"doc2.txt\",\"r\") as f:\n",
    "    size = 5\n",
    "    content = f.read(size)\n",
    "    print(content)\n",
    "    f.seek(0)\n",
    "    content = f.read(size)\n",
    "    print(content)"
   ]
  },
  {
   "cell_type": "markdown",
   "id": "ca11a831-b58f-44b0-a59c-112a31bb3b41",
   "metadata": {},
   "source": [
    "## Write"
   ]
  },
  {
   "cell_type": "code",
   "execution_count": 32,
   "id": "351343d2-f08a-4af1-a267-e8635aa6c4b0",
   "metadata": {},
   "outputs": [],
   "source": [
    "with open(\"doc3.txt\",\"w\") as w:\n",
    "    w.write(\"also know as Khoya paneer\")\n",
    "    w.seek(0)\n",
    "    w.write(\"my name is karan\")"
   ]
  },
  {
   "cell_type": "code",
   "execution_count": 51,
   "id": "fc973791-98b9-4cb9-b226-d0ffeffcdc6f",
   "metadata": {},
   "outputs": [],
   "source": [
    "# create a new file which will be the copy of doc1\n",
    "with open(\"doc1.txt\",\"r\") as d:\n",
    "    with open(\"doc4.txt\",\"w\") as c:\n",
    "        for n in d:\n",
    "            c.write(n)"
   ]
  }
 ],
 "metadata": {
  "kernelspec": {
   "display_name": "Python 3 (ipykernel)",
   "language": "python",
   "name": "python3"
  },
  "language_info": {
   "codemirror_mode": {
    "name": "ipython",
    "version": 3
   },
   "file_extension": ".py",
   "mimetype": "text/x-python",
   "name": "python",
   "nbconvert_exporter": "python",
   "pygments_lexer": "ipython3",
   "version": "3.11.7"
  }
 },
 "nbformat": 4,
 "nbformat_minor": 5
}
