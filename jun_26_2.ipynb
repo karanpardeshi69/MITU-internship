{
 "cells": [
  {
   "cell_type": "markdown",
   "id": "5c599270-ee8e-4b5a-8af8-8056f4a5f340",
   "metadata": {},
   "source": [
    "# Classification report"
   ]
  },
  {
   "cell_type": "code",
   "execution_count": 2,
   "id": "2d88d17c-bbb4-447e-8ab1-7ce98a000252",
   "metadata": {},
   "outputs": [],
   "source": [
    "import pandas as pd"
   ]
  },
  {
   "cell_type": "code",
   "execution_count": 3,
   "id": "8bd9d6b7-ee84-423a-ad55-e3436ccc7631",
   "metadata": {},
   "outputs": [],
   "source": [
    "actual = ['c','c','nc','c','nc','nc','c','nc','nc']\n",
    "predic = ['c','nt','nc','c','c','nc','nc','c','nc']"
   ]
  },
  {
   "cell_type": "markdown",
   "id": "f0fdd6e2-25f1-42ad-8111-57832881b359",
   "metadata": {},
   "source": [
    "## for cat"
   ]
  },
  {
   "cell_type": "code",
   "execution_count": 5,
   "id": "ff1c74eb-17d0-4edc-9f55-4615ae78dbd6",
   "metadata": {},
   "outputs": [],
   "source": [
    "tp = 2 # pred c actu c"
   ]
  },
  {
   "cell_type": "code",
   "execution_count": 6,
   "id": "209fc46d-2f03-44b7-80eb-00e83e58002e",
   "metadata": {},
   "outputs": [],
   "source": [
    "fp = 2 # pred c actu nt"
   ]
  },
  {
   "cell_type": "code",
   "execution_count": 7,
   "id": "61a0ea3f-610a-454b-9e0c-824543a4d23c",
   "metadata": {},
   "outputs": [],
   "source": [
    "fn = 2 # pred nt actu c"
   ]
  },
  {
   "cell_type": "code",
   "execution_count": 8,
   "id": "6e359c6b-688b-473c-bc0d-9ec810fe7d7e",
   "metadata": {},
   "outputs": [],
   "source": [
    "tn = 3 # pred nt actu nt"
   ]
  },
  {
   "cell_type": "code",
   "execution_count": 18,
   "id": "4bddcdd1-4f12-4051-9c4f-289fa24e909c",
   "metadata": {},
   "outputs": [
    {
     "data": {
      "text/plain": [
       "0.5"
      ]
     },
     "execution_count": 18,
     "metadata": {},
     "output_type": "execute_result"
    }
   ],
   "source": [
    "# precision \n",
    "precision = 2 / 4\n",
    "precision"
   ]
  },
  {
   "cell_type": "code",
   "execution_count": 20,
   "id": "89be24d7-f08b-4daf-8247-8dcfc444efcb",
   "metadata": {},
   "outputs": [
    {
     "data": {
      "text/plain": [
       "0.5"
      ]
     },
     "execution_count": 20,
     "metadata": {},
     "output_type": "execute_result"
    }
   ],
   "source": [
    "# recall\n",
    "recall = 2/4\n",
    "recall"
   ]
  },
  {
   "cell_type": "code",
   "execution_count": 24,
   "id": "2785d3c8-3260-4705-9ca2-9618a24f0199",
   "metadata": {},
   "outputs": [
    {
     "data": {
      "text/plain": [
       "0.5"
      ]
     },
     "execution_count": 24,
     "metadata": {},
     "output_type": "execute_result"
    }
   ],
   "source": [
    "# f-1 score\n",
    "f1s = (2*precision*recall)/(precision + recall)\n",
    "f1s"
   ]
  },
  {
   "cell_type": "code",
   "execution_count": null,
   "id": "dda1d73a-f2f0-448f-82f6-f53b79c790c4",
   "metadata": {},
   "outputs": [],
   "source": []
  }
 ],
 "metadata": {
  "kernelspec": {
   "display_name": "Python 3 (ipykernel)",
   "language": "python",
   "name": "python3"
  },
  "language_info": {
   "codemirror_mode": {
    "name": "ipython",
    "version": 3
   },
   "file_extension": ".py",
   "mimetype": "text/x-python",
   "name": "python",
   "nbconvert_exporter": "python",
   "pygments_lexer": "ipython3",
   "version": "3.11.7"
  }
 },
 "nbformat": 4,
 "nbformat_minor": 5
}
