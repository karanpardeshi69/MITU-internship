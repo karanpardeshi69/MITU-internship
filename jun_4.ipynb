{
 "cells": [
  {
   "cell_type": "code",
   "execution_count": 9,
   "id": "e41133fa-2cdc-4f2c-8d05-d5aaca1b6102",
   "metadata": {},
   "outputs": [
    {
     "name": "stdin",
     "output_type": "stream",
     "text": [
      "enter a number =  45\n"
     ]
    },
    {
     "name": "stdout",
     "output_type": "stream",
     "text": [
      "number is less than 50\n"
     ]
    }
   ],
   "source": [
    "# check if a number is greater than 50\n",
    "num  = int(input(\"enter a number = \"))\n",
    "\n",
    "if num >= 50:\n",
    "    print(\"number is greater than or equal to  50\")\n",
    "\n",
    "else:\n",
    "    print(\"number is less than 50\")"
   ]
  },
  {
   "cell_type": "code",
   "execution_count": 35,
   "id": "d929ba61-74ba-44c5-8a0a-165cb7147765",
   "metadata": {},
   "outputs": [
    {
     "name": "stdin",
     "output_type": "stream",
     "text": [
      "enter a number =  0\n"
     ]
    },
    {
     "name": "stdout",
     "output_type": "stream",
     "text": [
      "NUMBER IS ZERO\n"
     ]
    }
   ],
   "source": [
    "# check if a number is possitive or negative\n",
    "num1 = int(input(\"enter a number = \"))\n",
    "\n",
    "if num1 > 0:\n",
    "    print(\"NUMBER IS POSSITIVE \")\n",
    "    \n",
    "elif num1 == 0:\n",
    "    print(\"NUMBER IS ZERO\")\n",
    "    \n",
    "else:\n",
    "    print(\"NUMBER IS NEGATIVE\")"
   ]
  },
  {
   "cell_type": "code",
   "execution_count": 41,
   "id": "16f20f8c-1290-48b1-b3da-dfdd4592e3f0",
   "metadata": {},
   "outputs": [
    {
     "name": "stdin",
     "output_type": "stream",
     "text": [
      "enter a number =  13\n"
     ]
    },
    {
     "name": "stdout",
     "output_type": "stream",
     "text": [
      "number is odd\n"
     ]
    }
   ],
   "source": [
    "# even or odd\n",
    "n = int(input(\"enter a number = \"))\n",
    "if n%2==0:\n",
    "    print(\"number is even\")\n",
    "else:\n",
    "    print(\"number is odd\")"
   ]
  },
  {
   "cell_type": "code",
   "execution_count": 43,
   "id": "8a56174c-5c47-456a-b488-b51b7e98a047",
   "metadata": {},
   "outputs": [
    {
     "name": "stdout",
     "output_type": "stream",
     "text": [
      "maooo\n"
     ]
    }
   ],
   "source": [
    "# timepass if \n",
    "i = 69\n",
    "if i:\n",
    "    print(\"maooo\")"
   ]
  },
  {
   "cell_type": "code",
   "execution_count": 49,
   "id": "bd9c72a3-414f-45ad-98e1-208819597260",
   "metadata": {},
   "outputs": [
    {
     "name": "stdin",
     "output_type": "stream",
     "text": [
      "enter a number = 159\n"
     ]
    },
    {
     "name": "stdout",
     "output_type": "stream",
     "text": [
      "greater than 150 \n"
     ]
    }
   ],
   "source": [
    "# check if the number is in between 50 and 150\n",
    "j = int(input(\"enter a number =\"))\n",
    "if j >50:\n",
    "    if j<150:\n",
    "        print(\"correct\")\n",
    "    else: \n",
    "        print(\"greater than 150 \")\n",
    "else:\n",
    "    print(\"not correct\")"
   ]
  },
  {
   "cell_type": "code",
   "execution_count": 57,
   "id": "d400adaa-a67f-4c96-b0dd-243f2aa142d7",
   "metadata": {},
   "outputs": [
    {
     "name": "stdin",
     "output_type": "stream",
     "text": [
      "enter a number =  898\n"
     ]
    },
    {
     "name": "stdout",
     "output_type": "stream",
     "text": [
      "correct\n"
     ]
    }
   ],
   "source": [
    "# check if the number is in between 50 and 150 using and or oper\n",
    "num = int(input(\"enter a number = \"))\n",
    "if num>50 or num <150:\n",
    "    print(\"correct\")\n",
    "else:\n",
    "    print(\"incorrect\")"
   ]
  },
  {
   "cell_type": "code",
   "execution_count": 65,
   "id": "19156fec-4c1a-4c2a-9a2c-9c3abdbb2595",
   "metadata": {},
   "outputs": [
    {
     "name": "stdin",
     "output_type": "stream",
     "text": [
      "enter the puchase value=  4000\n",
      "enter the selling value=  `41414\n"
     ]
    },
    {
     "ename": "ValueError",
     "evalue": "invalid literal for int() with base 10: '`41414'",
     "output_type": "error",
     "traceback": [
      "\u001b[1;31m---------------------------------------------------------------------------\u001b[0m",
      "\u001b[1;31mValueError\u001b[0m                                Traceback (most recent call last)",
      "Cell \u001b[1;32mIn[65], line 3\u001b[0m\n\u001b[0;32m      1\u001b[0m \u001b[38;5;66;03m#read the puchase cost and selling cost and state profit or loss and how much?\u001b[39;00m\n\u001b[0;32m      2\u001b[0m pur \u001b[38;5;241m=\u001b[39m \u001b[38;5;28mint\u001b[39m(\u001b[38;5;28minput\u001b[39m(\u001b[38;5;124m\"\u001b[39m\u001b[38;5;124menter the puchase value= \u001b[39m\u001b[38;5;124m\"\u001b[39m))\u001b[38;5;66;03m#50\u001b[39;00m\n\u001b[1;32m----> 3\u001b[0m sell \u001b[38;5;241m=\u001b[39m \u001b[38;5;28mint\u001b[39m(\u001b[38;5;28minput\u001b[39m(\u001b[38;5;124m\"\u001b[39m\u001b[38;5;124menter the selling value= \u001b[39m\u001b[38;5;124m\"\u001b[39m))\u001b[38;5;66;03m#100\u001b[39;00m\n\u001b[0;32m      4\u001b[0m \u001b[38;5;28;01mif\u001b[39;00m pur \u001b[38;5;241m>\u001b[39m sell:\n\u001b[0;32m      5\u001b[0m     res \u001b[38;5;241m=\u001b[39m pur \u001b[38;5;241m-\u001b[39m sell\n",
      "\u001b[1;31mValueError\u001b[0m: invalid literal for int() with base 10: '`41414'"
     ]
    }
   ],
   "source": [
    "#read the puchase cost and selling cost and state profit or loss and how much?\n",
    "pur = int(input(\"enter the puchase value= \"))#50\n",
    "sell = int(input(\"enter the selling value= \"))#100\n",
    "if pur > sell:\n",
    "    res = pur - sell\n",
    "    print(\"you are in loss of \",res)\n",
    "else:\n",
    "    res = sell - pur\n",
    "    print(\"you are in profit of \",res)"
   ]
  },
  {
   "cell_type": "code",
   "execution_count": 75,
   "id": "26397775-6e74-498c-8492-9169bef2e8d7",
   "metadata": {},
   "outputs": [
    {
     "name": "stdin",
     "output_type": "stream",
     "text": [
      "enter a number1  12\n",
      "enter a number2  13\n",
      "enter a number3  134\n"
     ]
    },
    {
     "name": "stdout",
     "output_type": "stream",
     "text": [
      "greater number is n3 134\n"
     ]
    }
   ],
   "source": [
    "# take 3 numbers find the largest o f them not allowed to use and or operator\n",
    "n1 = int(input(\"enter a number1 \"))\n",
    "n2 = int(input(\"enter a number2 \"))\n",
    "n3 = int(input(\"enter a number3 \"))\n",
    "\n",
    "if n1 > n2:\n",
    "    if n1 > n3:\n",
    "        print(\"greater number is n1 \", n1)\n",
    "    else:\n",
    "        print(\"greater number is n3 \", n3)\n",
    "else:\n",
    "    if n2 > n3:\n",
    "        print(\"greater number is n2 \", n2)\n",
    "    else:\n",
    "        print(\"greater number is n3\", n3)"
   ]
  },
  {
   "cell_type": "code",
   "execution_count": 101,
   "id": "2cd06567-1728-487f-9629-803cc7d40003",
   "metadata": {},
   "outputs": [
    {
     "name": "stdin",
     "output_type": "stream",
     "text": [
      "enter a year to check  1800\n"
     ]
    },
    {
     "name": "stdout",
     "output_type": "stream",
     "text": [
      "century year but not leap\n"
     ]
    }
   ],
   "source": [
    "'''\n",
    "2000 = leap\n",
    "2020 = leap \n",
    "1800 = not leap \n",
    "2018 = not leap\n",
    "'''\n",
    "year =  int(input(\"enter a year to check \"))\n",
    "if year % 4 == 0:\n",
    "    if year % 100 == 0:\n",
    "        if year % 400 == 0:\n",
    "            print(\"leap century year\")\n",
    "        else:\n",
    "            print(\"century year but not leap\")\n",
    "    else:\n",
    "        print(\"leap year\")\n",
    "else:\n",
    "    print(\"not a leap year\")"
   ]
  },
  {
   "cell_type": "code",
   "execution_count": 111,
   "id": "727be441-4a19-41d5-863b-b53264658bb8",
   "metadata": {},
   "outputs": [
    {
     "name": "stdin",
     "output_type": "stream",
     "text": [
      "enter your marks =  34\n"
     ]
    },
    {
     "name": "stdout",
     "output_type": "stream",
     "text": [
      "fail\n"
     ]
    }
   ],
   "source": [
    "'''\n",
    "> 60 first class \n",
    "> 50 second \n",
    "> 40 third \n",
    "> 35 pass \n",
    "<= 35 fail\n",
    "'''\n",
    "\n",
    "marks = int(input(\"enter your marks = \"))\n",
    "if marks >= 60:\n",
    "    print(\"first class\")\n",
    "elif marks >= 50:\n",
    "    print(\"second class\")\n",
    "elif marks >= 40:\n",
    "    print(\"third class\")\n",
    "elif marks >= 35:\n",
    "    print(\"pass\")\n",
    "else:\n",
    "    print(\"fail\")"
   ]
  },
  {
   "cell_type": "code",
   "execution_count": 119,
   "id": "3fa93192-8728-489c-b6a6-26d493528431",
   "metadata": {},
   "outputs": [
    {
     "name": "stdin",
     "output_type": "stream",
     "text": [
      "enter a number =  6\n"
     ]
    },
    {
     "name": "stdout",
     "output_type": "stream",
     "text": [
      "MENU : \n",
      " 1. square \n",
      " 2. cube \n",
      " 3.check +ve or -ve \n",
      " \n"
     ]
    },
    {
     "name": "stdin",
     "output_type": "stream",
     "text": [
      "enter yout choice 2\n"
     ]
    },
    {
     "name": "stdout",
     "output_type": "stream",
     "text": [
      "cube =  216\n"
     ]
    }
   ],
   "source": [
    "# menu driven \n",
    "'''\n",
    "based on the choice it will do square , cube, or check +ve or -ve\n",
    "'''\n",
    "number = int(input(\"enter a number = \"))\n",
    "print(\"MENU : \\n 1. square \\n 2. cube \\n 3.check +ve or -ve \\n \")\n",
    "ch  = int(input(\"enter yout choice\"))\n",
    "\n",
    "if ch == 1:\n",
    "    print(\"square = \",number*number)\n",
    "elif ch == 2:\n",
    "    print(\"cube = \",number*number*number)\n",
    "elif ch == 3:\n",
    "    if num > 0:\n",
    "        print(\"possitive\")\n",
    "    else: \n",
    "        print(\"negative\")\n",
    "else:\n",
    "    print(\"invalid choice\")\n",
    "\n"
   ]
  },
  {
   "cell_type": "code",
   "execution_count": 121,
   "id": "1944afc6-a291-4a21-a52f-7ecfa90abca5",
   "metadata": {},
   "outputs": [
    {
     "name": "stdin",
     "output_type": "stream",
     "text": [
      "enter first number =  12\n",
      "enter second number =  15\n"
     ]
    },
    {
     "name": "stdout",
     "output_type": "stream",
     "text": [
      "MENU: \n",
      " 1.add \n",
      " 2.sub \n",
      " 3. floor division \n",
      " 4. find greater o these numbes\n"
     ]
    },
    {
     "name": "stdin",
     "output_type": "stream",
     "text": [
      "enter your choice 2\n"
     ]
    },
    {
     "name": "stdout",
     "output_type": "stream",
     "text": [
      "substraction  is -3\n"
     ]
    }
   ],
   "source": [
    "'''\n",
    "read 2 numbers and perform add , sub , floor div, which on is greater based on choice\n",
    "'''\n",
    "\n",
    "num1 = int(input(\"enter first number = \"))\n",
    "num2 = int(input(\"enter second number = \"))\n",
    "\n",
    "print(\"MENU: \\n 1.add \\n 2.sub \\n 3. floor division \\n 4. find greater o these numbes\")\n",
    "ch = int(input(\"enter your choice\"))\n",
    "\n",
    "if ch == 1:\n",
    "    print(\"Addition is \",num1 + num2)\n",
    "elif ch == 2:\n",
    "    print(\"substraction  is\",num1 - num2)\n",
    "elif ch == 3:\n",
    "    print(\"floor division is \",num1//num2)\n",
    "elif ch == 4:\n",
    "    if num1 > num2:\n",
    "        print(\"greater number is \", num1)\n",
    "    else:\n",
    "        print(\"greater number is \", num2 )\n",
    "else:\n",
    "    print(\"invalid choice\")"
   ]
  },
  {
   "cell_type": "code",
   "execution_count": null,
   "id": "e04bc969-110d-4948-bbea-f1ac80c91b93",
   "metadata": {},
   "outputs": [],
   "source": []
  }
 ],
 "metadata": {
  "kernelspec": {
   "display_name": "Python 3 (ipykernel)",
   "language": "python",
   "name": "python3"
  },
  "language_info": {
   "codemirror_mode": {
    "name": "ipython",
    "version": 3
   },
   "file_extension": ".py",
   "mimetype": "text/x-python",
   "name": "python",
   "nbconvert_exporter": "python",
   "pygments_lexer": "ipython3",
   "version": "3.11.7"
  }
 },
 "nbformat": 4,
 "nbformat_minor": 5
}
