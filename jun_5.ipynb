{
 "cells": [
  {
   "cell_type": "code",
   "execution_count": 3,
   "id": "20330d8f-5a45-4ec3-9615-fa251471153c",
   "metadata": {},
   "outputs": [
    {
     "name": "stdout",
     "output_type": "stream",
     "text": [
      "addtion of 1 to 10 numbers =  55\n"
     ]
    }
   ],
   "source": [
    "# print sum of 1 to 10\n",
    "i = 1\n",
    "sum = 0\n",
    "\n",
    "while i <= 10:\n",
    "    sum = sum + i\n",
    "    i = i + 1\n",
    "\n",
    "print(\"addtion of 1 to 10 numbers = \",sum)"
   ]
  },
  {
   "cell_type": "code",
   "execution_count": 5,
   "id": "cc5cde16-09ad-48b0-9114-cb5a0359c1e8",
   "metadata": {},
   "outputs": [
    {
     "name": "stdout",
     "output_type": "stream",
     "text": [
      "100\n"
     ]
    }
   ],
   "source": [
    "# print the additon of all odd numbers from 1 to 20\n",
    "i = 1\n",
    "sum = 0\n",
    "\n",
    "while i <= 20:\n",
    "    if i%2!=0:\n",
    "        sum = sum + i\n",
    "    i = i+1\n",
    "\n",
    "print(sum)\n"
   ]
  },
  {
   "cell_type": "code",
   "execution_count": 31,
   "id": "5d27b1b7-263d-4e15-8249-05208a228cde",
   "metadata": {},
   "outputs": [
    {
     "name": "stdin",
     "output_type": "stream",
     "text": [
      "enter the number for finding factorial =  5\n"
     ]
    },
    {
     "name": "stdout",
     "output_type": "stream",
     "text": [
      "factorial is =  120\n"
     ]
    }
   ],
   "source": [
    "# factorial of any number\n",
    "i = 1\n",
    "n = int(input(\"enter the number for finding factorial = \"))\n",
    "fact = 1\n",
    "\n",
    "while i <= n:\n",
    "    fact  = fact * i\n",
    "    i = i + 1\n",
    "else:\n",
    "    print(\"factorial is = \",fact)"
   ]
  },
  {
   "cell_type": "code",
   "execution_count": 41,
   "id": "ec9db2c1-88ee-491b-8bb8-e675b2418b89",
   "metadata": {},
   "outputs": [
    {
     "name": "stdin",
     "output_type": "stream",
     "text": [
      "enter a number =  091359873758\n"
     ]
    },
    {
     "name": "stdout",
     "output_type": "stream",
     "text": [
      "65\n"
     ]
    }
   ],
   "source": [
    "# find the sum of digits in a number \n",
    "# ex 12345 => 1+2+3+4+5= 15\n",
    "\n",
    "num = int(input(\"enter a number = \"))\n",
    "sum = 0\n",
    "while num > 0:\n",
    "    rem =  num % 10\n",
    "    sum = sum + rem\n",
    "    num = num // 10\n",
    "else:\n",
    "    print(sum)"
   ]
  },
  {
   "cell_type": "markdown",
   "id": "9c1983e2-16f3-426d-9297-23108c721bb6",
   "metadata": {},
   "source": [
    "# for loop"
   ]
  },
  {
   "cell_type": "code",
   "execution_count": 63,
   "id": "9f51f7f0-118d-41b0-a833-121338db8d2b",
   "metadata": {},
   "outputs": [
    {
     "name": "stdout",
     "output_type": "stream",
     "text": [
      "6\n",
      "6\n",
      "7\n",
      "7\n",
      "8\n",
      "8\n"
     ]
    }
   ],
   "source": [
    "for n in 12,13,14,15,16,17:\n",
    "    print(n/2)"
   ]
  },
  {
   "cell_type": "code",
   "execution_count": 67,
   "id": "15b6103a-8444-4e60-b31f-f991532a5fb6",
   "metadata": {},
   "outputs": [
    {
     "data": {
      "text/plain": [
       "[5, 6, 7, 8, 9, 10, 11, 12, 13, 14, 15, 16, 17, 18, 19]"
      ]
     },
     "execution_count": 67,
     "metadata": {},
     "output_type": "execute_result"
    }
   ],
   "source": [
    "# range function\n",
    "list(range(5,20))"
   ]
  },
  {
   "cell_type": "code",
   "execution_count": 79,
   "id": "d29920a5-8605-4ecd-9a3d-511612031145",
   "metadata": {},
   "outputs": [
    {
     "data": {
      "text/plain": [
       "[4, 6, 8, 10, 12, 14, 16, 18, 20]"
      ]
     },
     "execution_count": 79,
     "metadata": {},
     "output_type": "execute_result"
    }
   ],
   "source": [
    "list(range(4,21,2))\n",
    "# range(start,end + 1,step)"
   ]
  },
  {
   "cell_type": "code",
   "execution_count": 83,
   "id": "197915fa-add9-46d1-9af7-5f511491fc41",
   "metadata": {},
   "outputs": [
    {
     "name": "stdout",
     "output_type": "stream",
     "text": [
      "1 2 3 4 5 6 7 8 9 10 "
     ]
    }
   ],
   "source": [
    "for n in range(1,11):\n",
    "    print(n,end = \" \")"
   ]
  },
  {
   "cell_type": "code",
   "execution_count": 105,
   "id": "3c3a51cb-84e9-4b09-bbe9-a70a5c80cd47",
   "metadata": {},
   "outputs": [
    {
     "name": "stdout",
     "output_type": "stream",
     "text": [
      "odd numbers from 1 to 20:- \n",
      "1 3 5 7 9 11 13 15 17 19 addition =  100\n"
     ]
    }
   ],
   "source": [
    "# addition of odd numbers from 1 to 20\n",
    "sum = 0\n",
    "print(\"odd numbers from 1 to 20:- \")\n",
    "for n in range(1,21,2):\n",
    "    print(n,end=\" \")\n",
    "    sum = sum + n\n",
    "print(\"addition = \",sum)"
   ]
  },
  {
   "cell_type": "code",
   "execution_count": 115,
   "id": "41ca651d-bbea-4037-8945-f07e1516c32f",
   "metadata": {},
   "outputs": [
    {
     "name": "stdout",
     "output_type": "stream",
     "text": [
      "1 your name \n",
      "2 your name \n",
      "3 your name \n",
      "4 your name \n",
      "5 your name \n",
      "6 your name \n",
      "7 your name \n",
      "8 your name \n",
      "9 your name \n",
      "10 your name \n"
     ]
    }
   ],
   "source": [
    "# print your name using for loop 10 times\n",
    "for n in range(1,11):\n",
    "    print(n,\"your name \")"
   ]
  },
  {
   "cell_type": "code",
   "execution_count": 117,
   "id": "6b91b490-0dd2-4c90-b753-98190c1cfcae",
   "metadata": {},
   "outputs": [
    {
     "name": "stdout",
     "output_type": "stream",
     "text": [
      "12\n",
      "46\n",
      "85\n",
      "124\n",
      "57\n",
      "1234\n",
      "23\n"
     ]
    }
   ],
   "source": [
    "l1 = [12,46,85,124,57,1234,23]\n",
    "\n",
    "for n in l1:\n",
    "    print(n)"
   ]
  },
  {
   "cell_type": "code",
   "execution_count": 5,
   "id": "4006317a-d7b2-45e5-abbb-e6ea0cc5d9ff",
   "metadata": {},
   "outputs": [
    {
     "name": "stdin",
     "output_type": "stream",
     "text": [
      "enter a number 5\n"
     ]
    },
    {
     "name": "stdout",
     "output_type": "stream",
     "text": [
      "120\n"
     ]
    }
   ],
   "source": [
    "# find factorial of a number.... take user input \n",
    "num = int(input(\"enter a number\"))\n",
    "fact = 1\n",
    "for n in range(1,n+1):\n",
    "    fact  = fact * n\n",
    "print(fact)"
   ]
  },
  {
   "cell_type": "markdown",
   "id": "f5767c5d-9800-4a67-bb98-7471f3853fcc",
   "metadata": {},
   "source": [
    "### break statement"
   ]
  },
  {
   "cell_type": "code",
   "execution_count": 7,
   "id": "302bf91f-9fbe-454c-ac1d-09a4480010fa",
   "metadata": {},
   "outputs": [
    {
     "name": "stdout",
     "output_type": "stream",
     "text": [
      "1\n",
      "2\n",
      "3\n",
      "4\n"
     ]
    }
   ],
   "source": [
    "for n in range(1,10):\n",
    "    if n == 5:\n",
    "        break\n",
    "    print(n)"
   ]
  },
  {
   "cell_type": "markdown",
   "id": "0830f1f1-3478-42de-8daf-7db8837bdc99",
   "metadata": {},
   "source": [
    "### continue"
   ]
  },
  {
   "cell_type": "code",
   "execution_count": 15,
   "id": "9c870f38-d168-4583-958a-f9c862d3b317",
   "metadata": {},
   "outputs": [
    {
     "name": "stdout",
     "output_type": "stream",
     "text": [
      "1\n",
      "2\n",
      "3\n",
      "4\n",
      "6\n",
      "7\n",
      "8\n",
      "9\n"
     ]
    }
   ],
   "source": [
    "for n in range(1,10):\n",
    "    if n == 5:\n",
    "        continue\n",
    "    print(n)"
   ]
  },
  {
   "cell_type": "markdown",
   "id": "91db1fdd-812b-473b-bc8b-c8172cddd502",
   "metadata": {},
   "source": [
    "### pass"
   ]
  },
  {
   "cell_type": "code",
   "execution_count": 33,
   "id": "2cbf9a98-c62e-4e92-ba90-1d0209aab234",
   "metadata": {},
   "outputs": [],
   "source": [
    "num = 5\n",
    "if num < 10:\n",
    "    pass"
   ]
  },
  {
   "cell_type": "markdown",
   "id": "b21fdb91-7b3e-4c36-8fed-bc68c4ddac5e",
   "metadata": {},
   "source": [
    "### nested loops "
   ]
  },
  {
   "cell_type": "code",
   "execution_count": 102,
   "id": "b5cff48f-def3-4822-afe7-38a3bd2ea6ed",
   "metadata": {},
   "outputs": [
    {
     "name": "stdin",
     "output_type": "stream",
     "text": [
      "enter the number of rows 12\n"
     ]
    },
    {
     "name": "stdout",
     "output_type": "stream",
     "text": [
      "* \n",
      "* * \n",
      "* * * \n",
      "* * * * \n",
      "* * * * * \n",
      "* * * * * * \n",
      "* * * * * * * \n",
      "* * * * * * * * \n",
      "* * * * * * * * * \n",
      "* * * * * * * * * * \n",
      "* * * * * * * * * * * \n",
      "* * * * * * * * * * * * \n"
     ]
    }
   ],
   "source": [
    "'''\n",
    "*\n",
    "**\n",
    "***\n",
    "''';\n",
    "rows = int(input(\"enter the number of rows\"))\n",
    "for i in range(1,rows + 1):\n",
    "    for j in range(i):\n",
    "        print(\"*\",end =\" \")\n",
    "    print()"
   ]
  },
  {
   "cell_type": "code",
   "execution_count": null,
   "id": "95bb2770-07e4-403e-9118-ac88bae87c48",
   "metadata": {},
   "outputs": [],
   "source": []
  }
 ],
 "metadata": {
  "kernelspec": {
   "display_name": "Python 3 (ipykernel)",
   "language": "python",
   "name": "python3"
  },
  "language_info": {
   "codemirror_mode": {
    "name": "ipython",
    "version": 3
   },
   "file_extension": ".py",
   "mimetype": "text/x-python",
   "name": "python",
   "nbconvert_exporter": "python",
   "pygments_lexer": "ipython3",
   "version": "3.11.7"
  }
 },
 "nbformat": 4,
 "nbformat_minor": 5
}
