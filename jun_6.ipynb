{
 "cells": [
  {
   "cell_type": "markdown",
   "id": "716dc132-23b9-4a8a-ac92-094a384d3593",
   "metadata": {},
   "source": [
    "## Data structures "
   ]
  },
  {
   "cell_type": "markdown",
   "id": "d4356a12-ea94-483b-9438-7658df96d886",
   "metadata": {},
   "source": [
    "### 1 Lists"
   ]
  },
  {
   "cell_type": "code",
   "execution_count": null,
   "id": "0210f73a-53ac-4a31-ac54-25d161f16f43",
   "metadata": {},
   "outputs": [],
   "source": [
    "l = [11,23,35,66,73,124,62,29]\n",
    "print(l)"
   ]
  },
  {
   "cell_type": "code",
   "execution_count": null,
   "id": "e4bc5d5d-276b-430f-b1c4-c65f8e224ede",
   "metadata": {},
   "outputs": [],
   "source": [
    "type(l)"
   ]
  },
  {
   "cell_type": "code",
   "execution_count": null,
   "id": "15e2d3f9-e3ac-45f8-bfbc-deb81caa9a35",
   "metadata": {},
   "outputs": [],
   "source": [
    "l = [11,23,35,66,73,124,62,29,11]\n",
    "print(l)"
   ]
  },
  {
   "cell_type": "code",
   "execution_count": null,
   "id": "73bfdbca-4ce4-4388-be0e-40ea176451f3",
   "metadata": {},
   "outputs": [],
   "source": [
    "l = [11,23,35,66,73,124,62,29,\"Karan\",True]\n",
    "print(l)"
   ]
  },
  {
   "cell_type": "code",
   "execution_count": null,
   "id": "bb00d5ae-13ec-4dca-a4cc-5790cf23abc2",
   "metadata": {},
   "outputs": [],
   "source": [
    "# access the data in list\n",
    "print(l[0])\n",
    "print(l[5])\n",
    "print(l[-2])\n",
    "l[-1] = False\n",
    "l[-2] = \"Pardeshi\"\n",
    "print(l)"
   ]
  },
  {
   "cell_type": "code",
   "execution_count": null,
   "id": "cf89f648-771e-4ad5-bb62-7ece6cdc8141",
   "metadata": {},
   "outputs": [],
   "source": [
    "### list slicing\n",
    "l = [11, 23, 35, 66, 73, 124, 62, 29, 'Pardeshi', False]\n",
    "print(l[2:6])\n",
    "x = l[3:9]\n",
    "print(x)\n",
    "print(l[:])\n",
    "print(l[1:])\n",
    "print(l[::2])\n",
    "l[1:4] = [\"aryan\",\"tejas\",\"alpya\"]\n",
    "print(l)"
   ]
  },
  {
   "cell_type": "code",
   "execution_count": null,
   "id": "479704a4-f55d-489c-b7a7-9716dde11a3c",
   "metadata": {},
   "outputs": [],
   "source": [
    "### deleting data\n",
    "del l[7]\n",
    "print(l)"
   ]
  },
  {
   "cell_type": "code",
   "execution_count": null,
   "id": "b88a9d5e-3565-493f-bf7f-372c7439a63f",
   "metadata": {},
   "outputs": [],
   "source": [
    "# in operator\n",
    "print(11 in l)\n",
    "print(69 in l)"
   ]
  },
  {
   "cell_type": "code",
   "execution_count": null,
   "id": "55e93d01-dc5c-4496-a3da-e336591afc5a",
   "metadata": {},
   "outputs": [],
   "source": [
    "# arithmetic operator\n",
    "print(l*2)\n",
    "print(l + [2876724,1876857156])\n",
    "l1 = [True,False,1,0]\n",
    "print(l+ l1)"
   ]
  },
  {
   "cell_type": "code",
   "execution_count": null,
   "id": "0bea767d-3a78-48b4-8d34-639a3ddc6349",
   "metadata": {},
   "outputs": [],
   "source": [
    "## iterating over the list\n",
    "l1 = [1,2,3,4,5,6,7,8,9,10]\n",
    "for n in l1:\n",
    "    print(n*n, end =\" \")"
   ]
  },
  {
   "cell_type": "code",
   "execution_count": null,
   "id": "24b0923e-a9db-43a6-a429-ed7eaf097447",
   "metadata": {},
   "outputs": [],
   "source": [
    "for n in l1:\n",
    "    if n%2!=0:\n",
    "        print(n,end =\" \")"
   ]
  },
  {
   "cell_type": "markdown",
   "id": "de17fe4b-78b5-488f-a23b-b26394db1a85",
   "metadata": {},
   "source": [
    "### List Comprehension"
   ]
  },
  {
   "cell_type": "code",
   "execution_count": null,
   "id": "4f0804c4-8a88-4134-a4cd-98d29624163b",
   "metadata": {},
   "outputs": [],
   "source": [
    "l1"
   ]
  },
  {
   "cell_type": "code",
   "execution_count": null,
   "id": "a77a97c4-f77f-40e0-82b1-302dc958bfe5",
   "metadata": {},
   "outputs": [],
   "source": [
    "# map\n",
    "a = [n/2 for n in l1]\n",
    "print(a)"
   ]
  },
  {
   "cell_type": "code",
   "execution_count": null,
   "id": "f4ddbdb5-1605-4277-95d3-4b03686de58e",
   "metadata": {},
   "outputs": [],
   "source": [
    "b = [n*n for n in l1]\n",
    "print(b)"
   ]
  },
  {
   "cell_type": "code",
   "execution_count": null,
   "id": "0c01143d-3c47-46f4-9c22-fbd33bacf6b5",
   "metadata": {},
   "outputs": [],
   "source": [
    "# filtering \n",
    "c = [n for n in l1 if n >5]\n",
    "print(c)"
   ]
  },
  {
   "cell_type": "code",
   "execution_count": null,
   "id": "41fbde32-5eca-41ca-bd1c-19ed99f42dff",
   "metadata": {},
   "outputs": [],
   "source": [
    "c = [n for n in l1 if n%2!=0] # n % 2 == 1\n",
    "print(c)"
   ]
  },
  {
   "cell_type": "code",
   "execution_count": null,
   "id": "1d7b10c9-b03d-44e0-9d58-cdaae68caf35",
   "metadata": {},
   "outputs": [],
   "source": [
    "name = [\"karan\",\"aryan\",\"tanvi\",\"tejal\",\"tejas\",\"alpit\",\"taliraam\"]\n",
    "b = [n for n in name if n.startswith(\"t\")]\n",
    "print(b)"
   ]
  },
  {
   "cell_type": "code",
   "execution_count": null,
   "id": "02cc44e3-14e5-4391-96d6-84e24c03ca2b",
   "metadata": {},
   "outputs": [],
   "source": [
    "x = [n.upper() for n in name]\n",
    "print(x)"
   ]
  },
  {
   "cell_type": "markdown",
   "id": "d82c8e49-a6db-4393-b390-ef885b4f505e",
   "metadata": {},
   "source": [
    "## list decomposition"
   ]
  },
  {
   "cell_type": "code",
   "execution_count": null,
   "id": "87c4e13a-2037-4bd6-b593-9f0c426566a6",
   "metadata": {},
   "outputs": [],
   "source": [
    "l2 = [66,77,88,99]\n",
    "x ,y ,z, w = l2\n",
    "print(x,y,z,w)"
   ]
  },
  {
   "cell_type": "markdown",
   "id": "fe734503-ec72-4f5b-a9b5-bdf0b86c0358",
   "metadata": {},
   "source": [
    "## list functions"
   ]
  },
  {
   "cell_type": "code",
   "execution_count": null,
   "id": "f333aff2-48d6-4b10-8355-7ebade57569a",
   "metadata": {},
   "outputs": [],
   "source": [
    "l2 = [55,44,33,22,11,66,77,88,99]\n",
    "print(len(l2))\n",
    "print(max(l2))\n",
    "print(min(l2))\n",
    "print(sum(l2))\n",
    "print(sorted(l2))\n",
    "print(sorted(l2, reverse = True))"
   ]
  },
  {
   "cell_type": "code",
   "execution_count": null,
   "id": "6267b537-cd14-4cb7-946b-555b421abf25",
   "metadata": {},
   "outputs": [],
   "source": [
    "name = \"Karan\"\n",
    "print(list(name))"
   ]
  },
  {
   "cell_type": "markdown",
   "id": "ff61f6aa-f852-4f6e-8c42-c34dc32bc9b9",
   "metadata": {},
   "source": [
    "### methods on list"
   ]
  },
  {
   "cell_type": "code",
   "execution_count": null,
   "id": "15cc9c33-e361-4f52-b5b8-c6c96252522c",
   "metadata": {},
   "outputs": [],
   "source": [
    "l1 = [1,2,3,4,5,6,7,8,9,10]\n",
    "l1.append(11)\n",
    "print(l1)"
   ]
  },
  {
   "cell_type": "code",
   "execution_count": null,
   "id": "240dcdb7-b508-4820-a898-4d273656bbff",
   "metadata": {},
   "outputs": [],
   "source": [
    "# append and extend \n",
    "x = [11,22,33]\n",
    "y = [11,22,33]\n",
    "x.append([44,55])\n",
    "y.extend([44,55])\n",
    "print(x)\n",
    "print(y)"
   ]
  },
  {
   "cell_type": "code",
   "execution_count": null,
   "id": "ce0bc69a-b22d-45ea-b8fa-fc2c271b17bf",
   "metadata": {},
   "outputs": [],
   "source": [
    "print(x[-1])\n",
    "print(x[-1][1])"
   ]
  },
  {
   "cell_type": "code",
   "execution_count": null,
   "id": "b1645c50-fee0-4958-9226-a90a4e6aa57b",
   "metadata": {},
   "outputs": [],
   "source": [
    "## insert\n",
    "l1.insert(2,2232)\n",
    "print(l1)"
   ]
  },
  {
   "cell_type": "code",
   "execution_count": null,
   "id": "8cfeedcf-4c1d-440c-94b7-f117eae3585d",
   "metadata": {},
   "outputs": [],
   "source": [
    "## remove\n",
    "l1 = [1,2,3,4,5,6,7,8,9,10]\n",
    "l1.remove(10)\n",
    "print(l1) "
   ]
  },
  {
   "cell_type": "code",
   "execution_count": null,
   "id": "a693b1bd-5844-4539-8fc9-76e4492c9f72",
   "metadata": {},
   "outputs": [],
   "source": [
    "## accessing  using index\n",
    "print(l1.index(8))"
   ]
  },
  {
   "cell_type": "code",
   "execution_count": null,
   "id": "7736b2a4-2423-40e6-bcf3-c3b6becd79b4",
   "metadata": {},
   "outputs": [],
   "source": [
    "l1.count(1)"
   ]
  },
  {
   "cell_type": "code",
   "execution_count": null,
   "id": "61f91154-9c6b-4d78-b2e2-421a83bcddd7",
   "metadata": {},
   "outputs": [],
   "source": [
    "## delete / pop\n",
    "l1.pop()"
   ]
  },
  {
   "cell_type": "code",
   "execution_count": null,
   "id": "efa84699-0d0b-403e-b1ee-a13278d8984a",
   "metadata": {},
   "outputs": [],
   "source": [
    "l1"
   ]
  },
  {
   "cell_type": "code",
   "execution_count": null,
   "id": "d57150b5-bcde-4182-a4a4-9d8cbb119ba9",
   "metadata": {},
   "outputs": [],
   "source": [
    "l1.pop(10)"
   ]
  },
  {
   "cell_type": "code",
   "execution_count": null,
   "id": "a97120ed-08cf-4d20-b594-44f4dfa74024",
   "metadata": {},
   "outputs": [],
   "source": [
    "l1 = [1,2,3,4,5,6,7,8,9,10]\n",
    "l1.sort()\n",
    "print(l1)\n",
    "l1.reverse()\n",
    "print(l1)"
   ]
  },
  {
   "cell_type": "code",
   "execution_count": null,
   "id": "d5ef8a8c-2981-4827-b8bc-6cdd571d6f53",
   "metadata": {},
   "outputs": [],
   "source": [
    "l1 = [1,2,3,4,5,6,7,8,9,10]\n",
    "i = 0\n",
    "for i in l1:\n",
    "    print(l1.index(i),i)"
   ]
  },
  {
   "cell_type": "code",
   "execution_count": null,
   "id": "69c5c43e-d932-4421-a1b4-7ca03da5ce05",
   "metadata": {},
   "outputs": [],
   "source": [
    "## enumerate\n",
    "for i, n in enumerate(l1):\n",
    "    print(i,n)"
   ]
  },
  {
   "cell_type": "markdown",
   "id": "a196dfa7-ec08-46b3-a4e5-b2d66aab4a3f",
   "metadata": {},
   "source": [
    "### shallow copy"
   ]
  },
  {
   "cell_type": "code",
   "execution_count": null,
   "id": "3656f013-7a7e-4eed-86fa-5f98e05d5f5d",
   "metadata": {},
   "outputs": [],
   "source": [
    "l1 = [22,33,44,55,66]\n",
    "l2 = l1 \n",
    "print(l2)\n",
    "l1.append(77)\n",
    "print(l2)\n",
    "l3 = l1.copy()\n",
    "print(l3)\n",
    "l1.append(1000)\n",
    "print(l1)\n",
    "print(l2)\n",
    "print(l3)"
   ]
  },
  {
   "cell_type": "code",
   "execution_count": null,
   "id": "c960308e-f219-4199-bae2-a634dd8fd227",
   "metadata": {},
   "outputs": [],
   "source": [
    "l1.append([88,99])\n",
    "print(l1)\n"
   ]
  },
  {
   "cell_type": "code",
   "execution_count": null,
   "id": "0c92e4a5-0d15-4685-89c2-b2884194e93e",
   "metadata": {},
   "outputs": [],
   "source": [
    "print(l3)"
   ]
  },
  {
   "cell_type": "code",
   "execution_count": null,
   "id": "2ba42c03-e96c-4695-9a8f-597ee24b0895",
   "metadata": {},
   "outputs": [],
   "source": [
    "l3 = l1.copy()"
   ]
  },
  {
   "cell_type": "code",
   "execution_count": null,
   "id": "66e31bb2-f6c4-4a68-8edb-86c868a90730",
   "metadata": {},
   "outputs": [],
   "source": [
    "l1[-1].append(100)\n",
    "print(l1)\n",
    "print(l3)"
   ]
  },
  {
   "cell_type": "code",
   "execution_count": null,
   "id": "e027d59e-46ca-41ad-89f8-29850d9b25ab",
   "metadata": {},
   "outputs": [],
   "source": [
    "help(list)"
   ]
  },
  {
   "cell_type": "code",
   "execution_count": null,
   "id": "caaf29eb-1a78-49bd-a781-05ad3dbfbdd0",
   "metadata": {},
   "outputs": [],
   "source": [
    "l1 = [22, 33, 44, 55, 66, 77]\n",
    "l1.clear()\n",
    "print(l1)"
   ]
  },
  {
   "cell_type": "markdown",
   "id": "50281fe4-4b2f-4f52-b0ef-b9199b831f97",
   "metadata": {},
   "source": [
    "# Tuple"
   ]
  },
  {
   "cell_type": "code",
   "execution_count": 67,
   "id": "63da036f-f9c9-4988-bf0a-7e9ef65a791c",
   "metadata": {},
   "outputs": [
    {
     "name": "stdout",
     "output_type": "stream",
     "text": [
      "(1, 2, 3, 4, 5, 6, 7, 8, 1, 9, 10, 'karan')\n",
      "9\n"
     ]
    }
   ],
   "source": [
    "t = (1,2,3,4,5,6,7,8,1,9,10,\"karan\")\n",
    "type(t)\n",
    "print(t)\n",
    "print(t[9])"
   ]
  },
  {
   "cell_type": "code",
   "execution_count": 73,
   "id": "6a406d96-fd6d-466e-bbd6-8a070c8c0b67",
   "metadata": {},
   "outputs": [
    {
     "data": {
      "text/plain": [
       "[1, 2, 3, 4, 5, 6, 7, 8, 1, 9, 10, 'karan']"
      ]
     },
     "execution_count": 73,
     "metadata": {},
     "output_type": "execute_result"
    }
   ],
   "source": [
    "m = list(t)\n",
    "m"
   ]
  },
  {
   "cell_type": "code",
   "execution_count": 79,
   "id": "231fb723-8188-499d-b6f0-bb3d231bdf82",
   "metadata": {},
   "outputs": [
    {
     "name": "stdout",
     "output_type": "stream",
     "text": [
      "(1, 2, 3, 4, 5, 6, 7, 8, 1, 9, 10, 'karan')\n"
     ]
    }
   ],
   "source": [
    "m1 = tuple(m)\n",
    "print(m1)"
   ]
  },
  {
   "cell_type": "code",
   "execution_count": 81,
   "id": "03a74acb-7dc2-4934-8feb-63b07c28bf1e",
   "metadata": {},
   "outputs": [
    {
     "ename": "TypeError",
     "evalue": "'tuple' object doesn't support item deletion",
     "output_type": "error",
     "traceback": [
      "\u001b[1;31m---------------------------------------------------------------------------\u001b[0m",
      "\u001b[1;31mTypeError\u001b[0m                                 Traceback (most recent call last)",
      "Cell \u001b[1;32mIn[81], line 1\u001b[0m\n\u001b[1;32m----> 1\u001b[0m \u001b[38;5;28;01mdel\u001b[39;00m m1[\u001b[38;5;241m6\u001b[39m]\n",
      "\u001b[1;31mTypeError\u001b[0m: 'tuple' object doesn't support item deletion"
     ]
    }
   ],
   "source": [
    "del m1[6]"
   ]
  },
  {
   "cell_type": "markdown",
   "id": "891d17bc-68b8-454e-8de4-fbf4b3fbf79d",
   "metadata": {},
   "source": [
    "# Set"
   ]
  },
  {
   "cell_type": "code",
   "execution_count": 105,
   "id": "e89ec51a-7364-45cd-978a-9405fde4e167",
   "metadata": {},
   "outputs": [
    {
     "name": "stdout",
     "output_type": "stream",
     "text": [
      "{1, 2, 3, 4, 5, 6, 7, 8, 9, 10, 31}\n",
      "{0, 1, 2, 3, 4, 5, 6, 7, 8, 9, 10, 31}\n",
      "frozenset({0, 1, 2, 3, 4, 5, 6, 7, 8, 9, 10, 31})\n"
     ]
    }
   ],
   "source": [
    "s1 = {5,6,7,8,1,2,31,2,3,4,9,10}\n",
    "print(s1)# duplicate not allowed\n",
    "s1.add(0)\n",
    "print(s1)\n",
    "s2 = frozenset(s1)\n",
    "print(s2)"
   ]
  },
  {
   "cell_type": "markdown",
   "id": "2bd11b72-2a71-4518-810f-8fe13306d63d",
   "metadata": {},
   "source": [
    "## dictonary"
   ]
  },
  {
   "cell_type": "code",
   "execution_count": 103,
   "id": "9d7590c8-33bf-46f2-bb31-a53541af79f4",
   "metadata": {},
   "outputs": [
    {
     "name": "stdout",
     "output_type": "stream",
     "text": [
      "{1: 10, 2: 20, 3: 30, 4: 40, 5: 50}\n"
     ]
    }
   ],
   "source": [
    "d = {1:10,2:20,3:30,4:40,5:50}\n",
    "print(d)"
   ]
  },
  {
   "cell_type": "code",
   "execution_count": 107,
   "id": "3d1a484f-2a83-41f7-8a78-64d21209782e",
   "metadata": {},
   "outputs": [
    {
     "name": "stdout",
     "output_type": "stream",
     "text": [
      "30\n"
     ]
    }
   ],
   "source": [
    "print(d[3])"
   ]
  },
  {
   "cell_type": "code",
   "execution_count": 109,
   "id": "c3c1c4b2-2de5-49a8-8be5-48b316a01965",
   "metadata": {},
   "outputs": [
    {
     "name": "stdout",
     "output_type": "stream",
     "text": [
      "{1: 100, 2: 20, 3: 30, 4: 40, 5: 50}\n"
     ]
    }
   ],
   "source": [
    "d1 = {1:10,2:20,3:30,4:40,5:50,1:100}\n",
    "print(d1)"
   ]
  },
  {
   "cell_type": "code",
   "execution_count": 111,
   "id": "45ec40dd-a231-4cf2-9fbe-f429163a7d5b",
   "metadata": {},
   "outputs": [
    {
     "data": {
      "text/plain": [
       "10"
      ]
     },
     "execution_count": 111,
     "metadata": {},
     "output_type": "execute_result"
    }
   ],
   "source": [
    "d[1]"
   ]
  },
  {
   "cell_type": "code",
   "execution_count": 115,
   "id": "779595d2-ba7a-4c08-b0e0-f774df930142",
   "metadata": {},
   "outputs": [
    {
     "name": "stdout",
     "output_type": "stream",
     "text": [
      "{1: 100, 2: 20, 3: 89, 4: 40, 5: 50}\n"
     ]
    }
   ],
   "source": [
    "d1[3] = 89 \n",
    "print(d1)"
   ]
  },
  {
   "cell_type": "code",
   "execution_count": 117,
   "id": "dc9b632e-12dc-4815-b91e-4cbb46656c6b",
   "metadata": {},
   "outputs": [
    {
     "name": "stdout",
     "output_type": "stream",
     "text": [
      "{1: 100, 2: 20, 3: 89, 4: 40, 5: 50, 10: 78}\n"
     ]
    }
   ],
   "source": [
    "d1[10] = 78\n",
    "print(d1)"
   ]
  },
  {
   "cell_type": "code",
   "execution_count": 119,
   "id": "97acc662-5e04-4318-8d1a-e7c5301294c5",
   "metadata": {},
   "outputs": [
    {
     "data": {
      "text/plain": [
       "dict_keys([1, 2, 3, 4, 5, 10])"
      ]
     },
     "execution_count": 119,
     "metadata": {},
     "output_type": "execute_result"
    }
   ],
   "source": [
    "d1.keys()"
   ]
  },
  {
   "cell_type": "code",
   "execution_count": null,
   "id": "5cca0397-cdb9-4a40-a916-6f48738e9396",
   "metadata": {},
   "outputs": [],
   "source": []
  }
 ],
 "metadata": {
  "kernelspec": {
   "display_name": "Python 3 (ipykernel)",
   "language": "python",
   "name": "python3"
  },
  "language_info": {
   "codemirror_mode": {
    "name": "ipython",
    "version": 3
   },
   "file_extension": ".py",
   "mimetype": "text/x-python",
   "name": "python",
   "nbconvert_exporter": "python",
   "pygments_lexer": "ipython3",
   "version": "3.11.7"
  }
 },
 "nbformat": 4,
 "nbformat_minor": 5
}
